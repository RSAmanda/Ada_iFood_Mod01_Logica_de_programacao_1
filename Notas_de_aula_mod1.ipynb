{
  "nbformat": 4,
  "nbformat_minor": 0,
  "metadata": {
    "colab": {
      "provenance": [],
      "authorship_tag": "ABX9TyOV90psyp3ZiqRGwpGx24RH",
      "include_colab_link": true
    },
    "kernelspec": {
      "name": "python3",
      "display_name": "Python 3"
    },
    "language_info": {
      "name": "python"
    }
  },
  "cells": [
    {
      "cell_type": "markdown",
      "metadata": {
        "id": "view-in-github",
        "colab_type": "text"
      },
      "source": [
        "<a href=\"https://colab.research.google.com/github/RSAmanda/Ada_iFood_Mod01_Logica_de_programacao_1/blob/main/Notas_de_aula_mod1.ipynb\" target=\"_parent\"><img src=\"https://colab.research.google.com/assets/colab-badge.svg\" alt=\"Open In Colab\"/></a>"
      ]
    },
    {
      "cell_type": "markdown",
      "source": [
        "# Aula 01:\n",
        "## Data:\n",
        "06/10/2023\n",
        "## Tópicos:\n",
        "Apresentação da curso e alunos\n",
        "Introdução\n",
        "\n"
      ],
      "metadata": {
        "id": "CoIXgzbPHo9d"
      }
    },
    {
      "cell_type": "markdown",
      "source": [
        "## Introdução:\n",
        "\n",
        "> O Python é uma linguagem interpretada. Isso significa que é necessário termos um interpretador Python instalado em nosso computador para poder executar nossos programas.\n",
        "\n",
        "[A linguagem de programação Python por prof. Marcelo Cohen](https://www.inf.pucrs.br/flash/progbio/aulas/seq/build/progbio/Python.html)\n",
        "\n",
        "\n"
      ],
      "metadata": {
        "id": "JNlRzho8IMyG"
      }
    },
    {
      "cell_type": "markdown",
      "source": [
        "# Aula 02:\n",
        "## Data:\n",
        "09/10/2023"
      ],
      "metadata": {
        "id": "4DXZjVG_1zyy"
      }
    },
    {
      "cell_type": "markdown",
      "source": [
        "## Variáveis, entradas e saídas:\n",
        "\n",
        "### Variáveis:\n",
        "\n",
        "* Os nomes de variáveis podem conter letras, números e o símbolo `_`, mas eles não podem começar com número.\n",
        "\n",
        "> **Dica:** existe uma grande variedade de padrões diferentes que podemos adotar para nomear nossas variáveis. Em Python é recomendável utilizar o padrão conhecido como snake case, em que nomes de variáveis com múltiplas palavras adotam o símbolo `_` para separar as palavras. Exemplos: `nome_completo`, `nota_da_prova` etc.\n",
        "\n",
        "#### Tipos de Variáveis:\n",
        "Variáveis podem ter diferentes tipos. Alguns tipos são considerados **tipos primitivos**, ou seja, eles são tipos de dados mais básicos que podem ser utilizados para compor outros tipos mais complexos. Em Python esses tipos levam os seguintes nomes:\n",
        "\n",
        "- *int*: números inteiros, ou seja, números sem parte decimal: 0, 5, -1, 1000\n",
        "- *float*: números reais, ou seja, números com parte decimal: 1.0, -2.7, 3.14\n",
        "- *str*: cadeias de caracteres (strings), ou seja, dados textuais: 'Olá Mundo!', \"eu tenho 18 anos\"\n",
        "- *bool*: valores lógicos (booleanos), ou seja, apenas um entre dois valores possíveis: True ou False\n",
        "\n",
        "> O Python é uma linguagem **dinamicamente tipada**. Isso significa que não precisamos especificar o tipo de uma variável: a própria linguagem tenta determinar o tipo de acordo com o dado atribuído à variável.\n",
        "\n",
        "#### Comentários:\n",
        "\n",
        "- Ignorando apenas uma linha de código\n",
        "\n",
        "```\n",
        "# Comentando apenas uma linha\n",
        "```\n",
        "- Ignorando várias linhas de código\n",
        "\n",
        "```\n",
        "'''\n",
        "Este é um comentário de várias linhas.\n",
        "Tudo que veio após o primeiro trio de aspas e antes do segundo\n",
        "será ignorado pelo Python.\n",
        "'''\n",
        "```\n",
        "\n",
        "\n",
        "> Na maioria das IDEs você possui teclas de atalho para facilmente transformar um bloco inteiro de código em comentário para temporariamente desabilitá-lo. Isso pode ser útil quando estamos testando soluções alternativas para um problema ou corrigindo erros.\n",
        "\n",
        "### Saídas:\n",
        "\n",
        "Chamamos de **saídas** do nosso programa todos os dados que são gerados pelo programa e serão fornecidos para o usuário. A função de saída em tela no Python é o *print*. Colocamos entre parênteses o dado que queremos que apareça.\n",
        "\n",
        "**Uso padrão:**\n",
        "- *de-bug*\n",
        "- *log*"
      ],
      "metadata": {
        "id": "CF23tZysPZKv"
      }
    },
    {
      "cell_type": "code",
      "source": [
        "print('olá mundo!') # exibe a frase 'olá mundo' na tela"
      ],
      "metadata": {
        "colab": {
          "base_uri": "https://localhost:8080/"
        },
        "id": "NH1Aq-9pSOQ7",
        "outputId": "2309c088-aebd-44c9-c59a-eb40fa530d3e"
      },
      "execution_count": null,
      "outputs": [
        {
          "output_type": "stream",
          "name": "stdout",
          "text": [
            "olá mundo!\n"
          ]
        }
      ]
    },
    {
      "cell_type": "markdown",
      "source": [
        "Os dados a serem exibidos não precisam ser valores constantes, como a frase fixa acima. Eles podem ser variáveis:"
      ],
      "metadata": {
        "id": "21FAPw2QPZHO"
      }
    },
    {
      "cell_type": "code",
      "source": [
        "idade = 20\n",
        "print(idade)"
      ],
      "metadata": {
        "colab": {
          "base_uri": "https://localhost:8080/"
        },
        "id": "2wCCpl1uSV5c",
        "outputId": "c740bc2e-8d21-45ba-a01e-35a8ef776ad5"
      },
      "execution_count": null,
      "outputs": [
        {
          "output_type": "stream",
          "name": "stdout",
          "text": [
            "20\n"
          ]
        }
      ]
    },
    {
      "cell_type": "markdown",
      "source": [
        "#### Boas práticas - PEP8:\n",
        "\n",
        "\n",
        "Variável e função: snake case\n",
        "\n",
        "`snake_case`\n",
        "\n",
        "Classe: Pascal case\n",
        "\n",
        "`PascaLCase`\n",
        "\n",
        "Nunca use mix case!!\n",
        "\n",
        "`Mix_Case`\n",
        "\n",
        "\n",
        "#### Dê nome coerente as variável, que seja fácil identificação.\n"
      ],
      "metadata": {
        "id": "1kFkTpqmhYmG"
      }
    },
    {
      "cell_type": "markdown",
      "source": [
        "Podemos exibir múltiplos dados em um `print()`. Para isso, basta separá-los por vírgula e eles irão aparecer na tela na mesma ordem que apareceram no código:"
      ],
      "metadata": {
        "id": "yOdpliaXPZCB"
      }
    },
    {
      "cell_type": "code",
      "source": [
        "nome = 'Mario'\n",
        "linguagem = 'Python'\n",
        "print('Oi, eu sou o', nome, 'e eu programo em', linguagem, sep= ' ',end='.')\n",
        "# sep -> separador\n",
        "# end -> o que será posto no final do print"
      ],
      "metadata": {
        "colab": {
          "base_uri": "https://localhost:8080/"
        },
        "id": "SzbDWxORSw9s",
        "outputId": "bfa40ca4-4bc7-4743-a1b5-c95e0c34386f"
      },
      "execution_count": null,
      "outputs": [
        {
          "output_type": "stream",
          "name": "stdout",
          "text": [
            "Oi, eu sou o Mario e eu programo em Python."
          ]
        }
      ]
    },
    {
      "cell_type": "markdown",
      "source": [
        "Ajuda para entender a função"
      ],
      "metadata": {
        "id": "VuiH9iLcknA0"
      }
    },
    {
      "cell_type": "code",
      "source": [
        "help(print)"
      ],
      "metadata": {
        "colab": {
          "base_uri": "https://localhost:8080/"
        },
        "id": "FH7nPgV-kaXX",
        "outputId": "3d922b0a-e728-42b1-ac5f-ab3356a3ae22"
      },
      "execution_count": null,
      "outputs": [
        {
          "output_type": "stream",
          "name": "stdout",
          "text": [
            "Help on built-in function print in module builtins:\n",
            "\n",
            "print(...)\n",
            "    print(value, ..., sep=' ', end='\\n', file=sys.stdout, flush=False)\n",
            "    \n",
            "    Prints the values to a stream, or to sys.stdout by default.\n",
            "    Optional keyword arguments:\n",
            "    file:  a file-like object (stream); defaults to the current sys.stdout.\n",
            "    sep:   string inserted between values, default a space.\n",
            "    end:   string appended after the last value, default a newline.\n",
            "    flush: whether to forcibly flush the stream.\n",
            "\n"
          ]
        }
      ]
    },
    {
      "cell_type": "markdown",
      "source": [
        "Também podemos usar o *f-string*. Ficará da seguinte forma:\n",
        "\n",
        "*format string*"
      ],
      "metadata": {
        "id": "WqAV_AGVPY96"
      }
    },
    {
      "cell_type": "code",
      "source": [
        "nome = 'Amanda'\n",
        "linguagem = 'Python'\n",
        "print('Oi, eu sou a {} e eu programo em {}.'.format(nome, linguagem))"
      ],
      "metadata": {
        "colab": {
          "base_uri": "https://localhost:8080/"
        },
        "id": "EV-nkI3usryb",
        "outputId": "67f83454-5f80-43d6-f850-f47cc2bd6275"
      },
      "execution_count": null,
      "outputs": [
        {
          "output_type": "stream",
          "name": "stdout",
          "text": [
            "Oi, eu sou a Amanda e eu programo em Python.\n"
          ]
        }
      ]
    },
    {
      "cell_type": "code",
      "source": [
        "nome = 'Amanda'\n",
        "linguagem = 'Python'\n",
        "print(f'Oi, eu sou a {nome} e eu programo em {linguagem}.')"
      ],
      "metadata": {
        "colab": {
          "base_uri": "https://localhost:8080/"
        },
        "id": "ariew9wlTQxk",
        "outputId": "b8b64acb-50f3-4776-db8b-ff339146c986"
      },
      "execution_count": null,
      "outputs": [
        {
          "output_type": "stream",
          "name": "stdout",
          "text": [
            "Oi, eu sou a Amanda e eu programo em Python.\n"
          ]
        }
      ]
    },
    {
      "cell_type": "markdown",
      "source": [
        "Podemos usar da seguinte forma:\n"
      ],
      "metadata": {
        "id": "2O-dNyS0tHdl"
      }
    },
    {
      "cell_type": "code",
      "source": [
        "apresentacao = f'Oi, eu sou a {nome} e eu programo em {linguagem}.' #variável do tipo string\n",
        "print(apresentacao)"
      ],
      "metadata": {
        "colab": {
          "base_uri": "https://localhost:8080/"
        },
        "id": "_pL1DBTstLK3",
        "outputId": "113b7411-9779-45ea-d4b1-8b9ea4796cbf"
      },
      "execution_count": null,
      "outputs": [
        {
          "output_type": "stream",
          "name": "stdout",
          "text": [
            "Oi, eu sou a Amanda e eu programo em Python.\n"
          ]
        }
      ]
    },
    {
      "cell_type": "markdown",
      "source": [
        "### Entrada:\n",
        "\n",
        "Assim como temos **dados de saída** - dados gerados pelo código e fornecidos para o usuário - também temos **dados de entrada**: informações que o usuário possui e deve fornecer ao código. Para receber entradas pelo teclado, utilizaremos a função `input()`. Devemos levar uma variável a receber o valor capturado pelo input."
      ],
      "metadata": {
        "id": "JEzmCIAbPYsD"
      }
    },
    {
      "cell_type": "code",
      "source": [
        "nome = input('Qual é o seu nome?\\t')\n",
        "print('Olá,', nome, end='!')"
      ],
      "metadata": {
        "colab": {
          "base_uri": "https://localhost:8080/"
        },
        "id": "u5BE47DzVEEh",
        "outputId": "2b5c87c0-0294-4756-cb0d-7328173cdcb5"
      },
      "execution_count": null,
      "outputs": [
        {
          "output_type": "stream",
          "name": "stdout",
          "text": [
            "Qual é o seu nome?\tamanda\n",
            "Olá, amanda!"
          ]
        }
      ]
    },
    {
      "cell_type": "code",
      "source": [
        "print('Nome\\t idade\\nAmanda\\t 29') #modo de usar o tabular (\\t)"
      ],
      "metadata": {
        "colab": {
          "base_uri": "https://localhost:8080/"
        },
        "id": "vBchMHNmp1aX",
        "outputId": "f23fc299-0b64-4ebb-b185-490cba618254"
      },
      "execution_count": null,
      "outputs": [
        {
          "output_type": "stream",
          "name": "stdout",
          "text": [
            "Nome\t idade\n",
            "Amanda\t 29\n"
          ]
        }
      ]
    },
    {
      "cell_type": "markdown",
      "source": [
        "A saída do `input()` será sempre uma *string*. Para ter uma entrada do tipo *int*, por exemplo, será necessário converter a saída do `input()`."
      ],
      "metadata": {
        "id": "EAAHvYyHVxmA"
      }
    },
    {
      "cell_type": "code",
      "source": [
        "idade = int(input('Digite a sua idade: ')) #usando a função int para converter a saída do input em inteiro\n",
        "resto = 18 - idade\n",
        "print('Faltam', resto, 'anos para fazer 18 anos.')"
      ],
      "metadata": {
        "colab": {
          "base_uri": "https://localhost:8080/"
        },
        "id": "1VnelzpjWIKN",
        "outputId": "ce4fb6cd-7329-49ba-b993-c69d76adef5b"
      },
      "execution_count": null,
      "outputs": [
        {
          "output_type": "stream",
          "name": "stdout",
          "text": [
            "Digite a sua idade: 10\n",
            "Faltam 8 anos para fazer 18 anos.\n"
          ]
        }
      ]
    },
    {
      "cell_type": "markdown",
      "source": [
        "Quando se converte um número real em inteiro, perde-se o valor depois da vírgula."
      ],
      "metadata": {
        "id": "f6TGYNFkl7q1"
      }
    },
    {
      "cell_type": "code",
      "source": [
        "valor = 1.9\n",
        "valor"
      ],
      "metadata": {
        "colab": {
          "base_uri": "https://localhost:8080/"
        },
        "id": "cRkasZ8qmHt4",
        "outputId": "16a4dfe6-9ff9-42d7-eb0c-9aa9c1df26b7"
      },
      "execution_count": null,
      "outputs": [
        {
          "output_type": "execute_result",
          "data": {
            "text/plain": [
              "1.9"
            ]
          },
          "metadata": {},
          "execution_count": 8
        }
      ]
    },
    {
      "cell_type": "code",
      "source": [
        "int(valor)"
      ],
      "metadata": {
        "colab": {
          "base_uri": "https://localhost:8080/"
        },
        "id": "aC6oII1CmMZ_",
        "outputId": "5aba7c3f-b951-4412-99ca-a2236ff1b6e6"
      },
      "execution_count": null,
      "outputs": [
        {
          "output_type": "execute_result",
          "data": {
            "text/plain": [
              "1"
            ]
          },
          "metadata": {},
          "execution_count": 9
        }
      ]
    },
    {
      "cell_type": "markdown",
      "source": [
        "Podemos também mudar a base de um valor"
      ],
      "metadata": {
        "id": "Nb9zv8JXopdb"
      }
    },
    {
      "cell_type": "code",
      "source": [
        "int('101011', base = 2)"
      ],
      "metadata": {
        "colab": {
          "base_uri": "https://localhost:8080/"
        },
        "id": "fBYSnENsnKGo",
        "outputId": "2dfe0082-df2d-459a-b93a-fd84e9bf1467"
      },
      "execution_count": null,
      "outputs": [
        {
          "output_type": "execute_result",
          "data": {
            "text/plain": [
              "43"
            ]
          },
          "metadata": {},
          "execution_count": 13
        }
      ]
    },
    {
      "cell_type": "markdown",
      "source": [
        "> Chamamos essa operação de **coerção de tipo**. Em materiais em inglês você verá essa operação com o nome ***casting***.\n",
        "\n",
        "**Tome cuidado:** operações de coerção podem resultar em perdas de dados. Se você converter o número *float* 3.9 para *int*, ele não arredondará para 4, e sim descartará a parte fracionária, resultando em 3."
      ],
      "metadata": {
        "id": "HgsnbF7GVxgk"
      }
    },
    {
      "cell_type": "markdown",
      "source": [
        "* Para verificar o tipo da variável, podemos utilizar a função `type()`:"
      ],
      "metadata": {
        "id": "S5Axizs-XGj8"
      }
    },
    {
      "cell_type": "code",
      "source": [
        "type(idade)"
      ],
      "metadata": {
        "colab": {
          "base_uri": "https://localhost:8080/"
        },
        "id": "0w1bIr9jXOpg",
        "outputId": "18462b1a-c557-4093-804b-8d4e2e35a340"
      },
      "execution_count": null,
      "outputs": [
        {
          "output_type": "execute_result",
          "data": {
            "text/plain": [
              "int"
            ]
          },
          "metadata": {},
          "execution_count": 14
        }
      ]
    },
    {
      "cell_type": "code",
      "source": [
        "type(nome)"
      ],
      "metadata": {
        "colab": {
          "base_uri": "https://localhost:8080/"
        },
        "id": "hLL8WBL_XRTk",
        "outputId": "75639d1b-a5aa-4e87-bb2a-82498e4f0c5f"
      },
      "execution_count": null,
      "outputs": [
        {
          "output_type": "execute_result",
          "data": {
            "text/plain": [
              "str"
            ]
          },
          "metadata": {},
          "execution_count": 15
        }
      ]
    },
    {
      "cell_type": "markdown",
      "source": [
        "**Operadores Aritméticos**\n",
        "\n",
        "|     Operador    |     Nome                 |     Função                                                                       |\n",
        "|-----------------|--------------------------|----------------------------------------------------------------------------------|\n",
        "|     +           |     Adição               |     Realiza   a soma de ambos operandos.                                         |\n",
        "|     -           |     Subtração            |     Realiza   a subtração de ambos operandos.                                    |\n",
        "|     *           |     Multiplicação        |     Realiza   a multiplicação de ambos operandos.                                |\n",
        "|     /           |     Divisão              |     Realiza   a Divisão de ambos operandos.                                      |\n",
        "|     //          |     Divisão   inteira    |     Realiza   a divisão entre operandos e a parte decimal de ambos operandos.    |\n",
        "|     %           |     Módulo               |     Retorna   o resto da divisão de ambos operandos.                             |\n",
        "|     **          |     Exponenciação        |     Retorna   o resultado da elevação da potência pelo outro.                    |"
      ],
      "metadata": {
        "id": "56u_OSYaVxap"
      }
    },
    {
      "cell_type": "code",
      "source": [
        "numero1 = int(input('Digite um número: '))\n",
        "numero2 = int(input('Digite outro número: '))\n",
        "soma = numero1 + numero2\n",
        "subtracao = numero1 - numero2\n",
        "multiplicacao = numero1 * numero2\n",
        "divisao_real = numero1 / numero2\n",
        "divisao_inteira = numero1 // numero2\n",
        "resto = numero1 % numero2\n",
        "elevado = numero1 ** numero2\n",
        "print('Soma: ', soma)\n",
        "print('Subtração: ', subtracao)\n",
        "print('Multiplicação: ', multiplicacao)\n",
        "print('Divisão: ', round(divisao_real, 2))\n",
        "print('Divisão inteira: ', divisao_inteira)\n",
        "print('Resto da divisão: ', resto)\n",
        "print('Potência: ', elevado)"
      ],
      "metadata": {
        "colab": {
          "base_uri": "https://localhost:8080/"
        },
        "id": "lmHMXSk1Xcq-",
        "outputId": "16c68fde-6617-4176-abc9-ed8c8449002d"
      },
      "execution_count": null,
      "outputs": [
        {
          "output_type": "stream",
          "name": "stdout",
          "text": [
            "Digite um número: 3\n",
            "Digite outro número: 2\n",
            "Soma:  5\n",
            "Subtração:  1\n",
            "Multiplicação:  6\n",
            "Divisão:  1.5\n",
            "Divisão inteira:  1\n",
            "Resto da divisão:  1\n",
            "Potência:  9\n"
          ]
        }
      ]
    },
    {
      "cell_type": "markdown",
      "source": [
        "> A função `round()` arredonda o valor inserido."
      ],
      "metadata": {
        "id": "7-rZgxkPVxRe"
      }
    },
    {
      "cell_type": "markdown",
      "source": [
        "**Operadores de atribuição**\n",
        "\n",
        "|     Operador    |     Equivalente a    |\n",
        "|:---------------:|----------------------|\n",
        "|         =       |     x =   1          |\n",
        "|        +=       |     x =   x + 1      |\n",
        "|        -=       |     x =   x - 1      |\n",
        "|        *=       |     x =   x * 1      |\n",
        "|        /=       |     x =   x / 1      |\n",
        "|        %=       |     x =   x % 1      |"
      ],
      "metadata": {
        "id": "xBbUl7gMbBPI"
      }
    },
    {
      "cell_type": "markdown",
      "source": [
        "Remover uma variável da memória: `del`\n",
        "\n",
        "\n"
      ],
      "metadata": {
        "id": "M9tqB3-Q_l3A"
      }
    },
    {
      "cell_type": "code",
      "source": [
        "idade = 20\n",
        "idade"
      ],
      "metadata": {
        "colab": {
          "base_uri": "https://localhost:8080/"
        },
        "id": "EuOgK6rf_lUu",
        "outputId": "d3daf774-a992-4c40-a296-dcc14e19df96"
      },
      "execution_count": null,
      "outputs": [
        {
          "output_type": "execute_result",
          "data": {
            "text/plain": [
              "20"
            ]
          },
          "metadata": {},
          "execution_count": 33
        }
      ]
    },
    {
      "cell_type": "code",
      "source": [
        "del idade"
      ],
      "metadata": {
        "id": "auYM8NDG_xSk"
      },
      "execution_count": null,
      "outputs": []
    },
    {
      "cell_type": "code",
      "source": [
        "idade # ERRO! Não existe mais"
      ],
      "metadata": {
        "colab": {
          "base_uri": "https://localhost:8080/",
          "height": 176
        },
        "id": "blLS_S1C_1jX",
        "outputId": "bdb3825f-a847-4775-db31-6cbce3d5593c"
      },
      "execution_count": null,
      "outputs": [
        {
          "output_type": "error",
          "ename": "NameError",
          "evalue": "ignored",
          "traceback": [
            "\u001b[0;31m---------------------------------------------------------------------------\u001b[0m",
            "\u001b[0;31mNameError\u001b[0m                                 Traceback (most recent call last)",
            "\u001b[0;32m<ipython-input-36-45df36028e87>\u001b[0m in \u001b[0;36m<cell line: 1>\u001b[0;34m()\u001b[0m\n\u001b[0;32m----> 1\u001b[0;31m \u001b[0midade\u001b[0m \u001b[0;31m# ERRO! Não existe mais\u001b[0m\u001b[0;34m\u001b[0m\u001b[0;34m\u001b[0m\u001b[0m\n\u001b[0m",
            "\u001b[0;31mNameError\u001b[0m: name 'idade' is not defined"
          ]
        }
      ]
    },
    {
      "cell_type": "markdown",
      "source": [
        "# Aula 2\n",
        "\n",
        "11/10/2023"
      ],
      "metadata": {
        "id": "FUt1eHmzINTO"
      }
    },
    {
      "cell_type": "markdown",
      "source": [
        "## Operações Lógicas:\n",
        "\n",
        "### Operações Booleanas:\n",
        "\n",
        "Quando estudamos variáveis, vimos que existem alguns tipos primitivos: `str` (texto), `int` (número inteiro), `float` (número real) e `bool` (lógico). Vimos diversas operações aritméticas também, como a soma, a divisão ou a potência, cujos resultados são `int` ou `float`. Porém, podemos ter também operações cujo resultado é `bool`: são **operações lógicas**."
      ],
      "metadata": {
        "id": "xpkXgIxmX6YO"
      }
    },
    {
      "cell_type": "markdown",
      "source": [
        "#### Comparações:\n",
        "\n",
        "Resultado de comparações são sempre `True` ou `False`."
      ],
      "metadata": {
        "id": "OtY8pYabaSKb"
      }
    },
    {
      "cell_type": "code",
      "source": [
        "comparacao1 = 5 > 3\n",
        "print(comparacao1)\n",
        "\n",
        "comparacao2 = 5 < 3\n",
        "print(comparacao2)"
      ],
      "metadata": {
        "colab": {
          "base_uri": "https://localhost:8080/"
        },
        "id": "HfVjcd2eX53I",
        "outputId": "502ad85b-8cce-4e3c-ea43-5f3ae4582166"
      },
      "execution_count": null,
      "outputs": [
        {
          "output_type": "stream",
          "name": "stdout",
          "text": [
            "True\n",
            "False\n"
          ]
        }
      ]
    },
    {
      "cell_type": "markdown",
      "source": [
        "O python tem seis operadores de comparação:\n",
        "\n"
      ],
      "metadata": {
        "id": "psGn8d1Nakxh"
      }
    },
    {
      "cell_type": "markdown",
      "source": [
        "**Operadores de comparação**\n",
        "\n",
        "|     Operador    |           Nome          |     Função                                              |\n",
        "|:---------------:|:-----------------------:|---------------------------------------------------------|\n",
        "|        ==       |         Igual   a       |     Verifica   se um valor é igual ao outro             |\n",
        "|        !=       |      Diferente   de     |     Verifica   se um valor é diferente ao outro         |\n",
        "|         >       |        Maior   que      |     Verifica   se um valor é maior que outro            |\n",
        "|        >=       |     Maior   ou igual    |     Verifica   se um valor é maior ou igual ao outro    |\n",
        "|         <       |        Menor   que      |     Verifica   se um valor é menor que outro            |\n",
        "|        <=       |     Menor   ou igual    |     Verifica   se um valor é menor ou igual ao outro    |"
      ],
      "metadata": {
        "id": "FkAMUcmqbJa3"
      }
    },
    {
      "cell_type": "markdown",
      "source": [
        "> Note que o operador para comparar se 2 valores são iguais é ==, e não =. Isso ocorre porque o operador = é o nosso operador de atribuição: ele diz que a variável à sua esquerda deve receber o valor da expressão à direita. O operador de == irá testar se o valor à sua esquerda é igual ao valor à sua direita e irá responder True ou False, como todos os outros operadores de comparação."
      ],
      "metadata": {
        "id": "XpCHv6CJbR8V"
      }
    },
    {
      "cell_type": "markdown",
      "source": [
        "#### Negação Lógica:\n",
        "\n",
        "Outra operação lógica bastante importante é a negação. Ela inverte o resultado de uma expressão lógica. Caso a expressão resulte em True, a sua negação irá resultar em False, e vice-versa.\n",
        "\n",
        "A negação em Python é representada pela palavra `not`. Vamos modificar o exemplo anterior:"
      ],
      "metadata": {
        "id": "sLsQSFeEdH5b"
      }
    },
    {
      "cell_type": "code",
      "source": [
        "comparacao1 = not 5 > 3\n",
        "print(comparacao1)\n",
        "comparacao2 = not 5 < 3\n",
        "print(comparacao2)"
      ],
      "metadata": {
        "colab": {
          "base_uri": "https://localhost:8080/"
        },
        "id": "f1z_mbO9dSBm",
        "outputId": "e089964f-bad2-440f-d592-fb33ce9393f3"
      },
      "execution_count": null,
      "outputs": [
        {
          "output_type": "stream",
          "name": "stdout",
          "text": [
            "False\n",
            "True\n"
          ]
        }
      ]
    },
    {
      "cell_type": "markdown",
      "source": [
        "| *A*   | *B*   | *A and B* | *A or B* | *not A* |\n",
        "|-------|-------|-----------|----------|---------|\n",
        "| False | False | False     | False    | True    |\n",
        "| False | True  | False     | True     | True    |\n",
        "| True  | False | False     | True     | False   |\n",
        "| True  | True  | True      | True     | False   |"
      ],
      "metadata": {
        "id": "X5aTK-1PdiNf"
      }
    },
    {
      "cell_type": "markdown",
      "source": [
        "Imagine, por exemplo, que o critério de aprovação em uma escola seja a média superior a 6.0 e presença superior a 75%. Neste caso, o aluno precisa atender a ambos os critérios para ser aprovado. Se ele tirou uma ótima nota, mas faltou demais, será reprovado. Se ele compareceu a todas as aulas, mas teve notas baixas, idem.\n",
        "\n",
        "> o `not` é sempre anterior a variável.\n",
        "\n",
        "> Podemos aproximar o `and` como sendo uma multiplicação e o `or` como sendo soma:\n",
        "A and (B or C) -> A*B + A*C\n",
        "\n",
        "\n",
        "\n"
      ],
      "metadata": {
        "id": "IjOWbcgFdsac"
      }
    },
    {
      "cell_type": "code",
      "source": [
        "media = float(input('Digite a média do aluno:\\t'))\n",
        "presenca = float(input('Digite as presenças do aluno:\\t'))\n",
        "\n",
        "aprovado = media >= 6.0 and presenca >= 0.75\n",
        "print('O aluno foi aprovado?\\t', aprovado)"
      ],
      "metadata": {
        "colab": {
          "base_uri": "https://localhost:8080/"
        },
        "id": "RtkCsb_BduWl",
        "outputId": "cd81c3ac-c350-4454-e0ee-b8400fd64822"
      },
      "execution_count": null,
      "outputs": [
        {
          "output_type": "stream",
          "name": "stdout",
          "text": [
            "Digite a média do aluno:\t7\n",
            "Digite as presenças do aluno:\t.5\n",
            "O aluno foi aprovado?\t False\n"
          ]
        }
      ]
    },
    {
      "cell_type": "markdown",
      "source": [
        "#### Disjunção Lógica:\n",
        "\n",
        "Nem sempre precisamos que ambas as condições sejam verdadeiras. Vários de nós já nos deparamos com promoções de queima de estoque anunciadas da seguinte maneira: \"promoção válida até o dia 15 deste mês ou enquanto durarem os estoques\".\n",
        "\n",
        "Neste caso, para a promoção acabar, não é necessário que ambas as coisas ocorram (atingir o dia 15 e zerar o estoque). Se ainda temos 10 itens no estoque, mas hoje é dia 16, a promoção acabou. Se hoje é dia 5, mas o estoque está zerado, a promoção acabou.\n",
        "\n",
        "A disjunção lógica, também chamada de ou lógico, é representada em Python pela palavra `or`.\n",
        "\n",
        "O programa abaixo testa se a promoção acabou:"
      ],
      "metadata": {
        "id": "eJX0SUb0eE9z"
      }
    },
    {
      "cell_type": "code",
      "source": [
        "dia_final = int(input('Digite o dia do mês para encerrar a promoção: '))\n",
        "dia_atual = int(input('Digite o dia do mês atual: '))\n",
        "estoque = int(input('Digite a quantidade de itens no estoque: '))\n",
        "\n",
        "acabou = dia_atual > dia_final or estoque == 0\n",
        "print('Acabou?',acabou)"
      ],
      "metadata": {
        "colab": {
          "base_uri": "https://localhost:8080/"
        },
        "id": "-Eizqj54eETe",
        "outputId": "08afbd57-af46-4f7e-fda4-04132d81211b"
      },
      "execution_count": null,
      "outputs": [
        {
          "output_type": "stream",
          "name": "stdout",
          "text": [
            "Digite o dia do mês para encerrar a promoção: 15\n",
            "Digite o dia do mês atual: 16\n",
            "Digite a quantidade de itens no estoque: 5\n",
            "Acabou? True\n"
          ]
        }
      ]
    },
    {
      "cell_type": "markdown",
      "source": [
        "Valores não-booleanos em Python, como inteiros ou strings, podem ser convertidos para booleanos utilizando a função `bool`, da mesma maneira que utilizamos `int` e `float`.\n",
        "\n",
        "Quando um valor pode ser interpretado como True, dizemos que ele é um valor truthy, e quando ele pode ser interpretado como False, ele é conhecido como um valor falsy.\n",
        "\n",
        "**Valores Falsy comuns são:**\n",
        "\n",
        "* O valor inteiro 0;\n",
        "* O valor real 0.0;\n",
        "* Strings vazias (strings com 0 caracteres);\n",
        "* Coleções vazias (listas, tuplas, dicionários etc. com 0 elementos).\n",
        "\n",
        "**Valores Truthy comuns são:**\n",
        "\n",
        "\n",
        "* Inteiros diferentes de 0;\n",
        "* Reais diferentes de 0.0;\n",
        "* Strings contendo ao menos 1 caractere;\n",
        "* Coleções (listas, tuplas, dicionários etc.) com pelo menos 1 elemento;\n",
        "* A constante None, que representa uma variável \"vazia\"."
      ],
      "metadata": {
        "id": "g_S7N3vtfUwj"
      }
    },
    {
      "cell_type": "markdown",
      "source": [
        "## Expressões condicionais:\n",
        "\n",
        "### Se\n",
        "\n",
        "> Uma condicional é uma instrução em Python que decide se outras linhas serão ou não executadas dependendo do resultado de uma condição. A condição nada mais é do que uma expressão lógica. Se a condição for verdadeira, as linhas são executadas. Senão, são ignoradas.\n",
        "\n",
        "A condicional mais básica em Python é o if (se):\n",
        "\n",
        "\n",
        "\n"
      ],
      "metadata": {
        "id": "GHxJ_mFNf6Hz"
      }
    },
    {
      "cell_type": "code",
      "source": [
        "nota1 = float(input('Digite a nota 1: '))\n",
        "nota2 = float(input('Digite a nota 2: '))\n",
        "\n",
        "media = (nota1 + nota2)/2\n",
        "\n",
        "if media >= 6.0:\n",
        "    print('Aprovado')\n",
        "\n",
        "print('Média: ', media)"
      ],
      "metadata": {
        "colab": {
          "base_uri": "https://localhost:8080/"
        },
        "id": "221m-usUggQB",
        "outputId": "2e2bed5c-641e-4400-b108-b097426f9c23"
      },
      "execution_count": null,
      "outputs": [
        {
          "output_type": "stream",
          "name": "stdout",
          "text": [
            "Digite a nota 1: 7\n",
            "Digite a nota 2: 8\n",
            "Aprovado\n",
            "Média:  7.5\n"
          ]
        }
      ]
    },
    {
      "cell_type": "markdown",
      "source": [
        "Note que se (`if`) a média é maior ou igual a 6.0, ele exibe a mensagem \"Aprovado\" e depois a média. Caso contrário, ele apenas exibe a média."
      ],
      "metadata": {
        "id": "2F3h3o0ngrlh"
      }
    },
    {
      "cell_type": "markdown",
      "source": [
        "> Para dizermos que uma ou mais linhas \"pertencem\" ao nosso if, usamos um símbolo de parágrafo (tecla \"Tab\" no teclado). O programa sabe que o if \"acabou\" quando as linhas param de ter \"tabs\". Esses tabs são chamados de indentação. Tanto no if quanto no restante das estruturas de controle que estudaremos é obrigatório ter pelo menos 1 linha indentada abaixo da linha de controle."
      ],
      "metadata": {
        "id": "dFoJ3caXg4rP"
      }
    },
    {
      "cell_type": "markdown",
      "source": [
        "### Senão\n",
        "\n",
        "Note que conseguimos fazer nosso programa decidir se ele exibe a mensagem \"Aprovado\" ou não. O próximo passo seria fazer ele decidir entre 2 mensagens diferentes: \"Aprovado\" ou \"Reprovado\". Um primeiro jeito de fazer isso seria um segundo if invertendo a condição:\n"
      ],
      "metadata": {
        "id": "lkQFKMp5gfZv"
      }
    },
    {
      "cell_type": "code",
      "source": [
        "nota1 = float(input('Digite a nota 1: '))\n",
        "nota2 = float(input('Digite a nota 2: '))\n",
        "\n",
        "media = (nota1 + nota2)/2\n",
        "\n",
        "if media >= 6.0:\n",
        "    print('Aprovado')\n",
        "else:\n",
        "    print('Reprovado')\n",
        "\n",
        "print('Média: ', media)"
      ],
      "metadata": {
        "colab": {
          "base_uri": "https://localhost:8080/"
        },
        "id": "py-eFwSwhIFx",
        "outputId": "1087b183-9a16-4359-c6f3-edaf501b97f9"
      },
      "execution_count": null,
      "outputs": [
        {
          "output_type": "stream",
          "name": "stdout",
          "text": [
            "Digite a nota 1: 7\n",
            "Digite a nota 2: 4\n",
            "Reprovado\n",
            "Média:  5.5\n"
          ]
        }
      ]
    },
    {
      "cell_type": "markdown",
      "source": [
        "Note que o `else` não possui condição. A condição dele é implícita: é a negação da condição do `if`. Se o `if` executar, o `else` não executa e vice-versa."
      ],
      "metadata": {
        "id": "TVv6qrt8hV_R"
      }
    },
    {
      "cell_type": "markdown",
      "source": [
        "\n",
        "###  Aninhando condições\n",
        "\n",
        "É possível aninhar condições: ou seja, colocar um novo if dentro de outro if ou else. Imagine que nossa escola não reprova direto o aluno com nota inferior a 6, e sim permite que ele faça uma recuperação. Porém, o aluno precisa ter tirado no mínimo média 3 para que permitam que faça a recuperação. Assim temos:\n",
        "\n",
        "Se nota maior ou igual a 6: aprovado.\n",
        "Senão:\n",
        "Se nota entre 6 e 3: recuperação.\n",
        "Senão: reprovado.\n",
        "Em Python:"
      ],
      "metadata": {
        "id": "Ip_DdBOWj1HI"
      }
    },
    {
      "cell_type": "code",
      "source": [
        "nota1 = float(input('Digite a nota 1: '))\n",
        "nota2 = float(input('Digite a nota 2: '))\n",
        "\n",
        "media = (nota1 + nota2)/2\n",
        "\n",
        "if media >= 6.0:\n",
        "    print('Aprovado')\n",
        "else:\n",
        "    if media >= 3.0:\n",
        "        print('Recuperação')\n",
        "    else:\n",
        "        print('Reprovado')\n",
        "\n",
        "print('Média: ', media)"
      ],
      "metadata": {
        "colab": {
          "base_uri": "https://localhost:8080/"
        },
        "id": "gKVwMu_Vj5JX",
        "outputId": "cebff083-9b9c-48c7-ea6d-b96a25ab3eed"
      },
      "execution_count": null,
      "outputs": [
        {
          "output_type": "stream",
          "name": "stdout",
          "text": [
            "Digite a nota 1: 7\n",
            "Digite a nota 2: 5\n",
            "Aprovado\n",
            "Média:  6.0\n"
          ]
        }
      ]
    },
    {
      "cell_type": "markdown",
      "source": [
        "#### Senão-Se\n",
        "\n",
        "Existe a possibilidade de juntarmos o \"se\" do próximo nível com o \"senão\" do nível anterior: o elif: else + if (senão + se).\n",
        "\n",
        "O `elif` só é executado se um `if` der errado (ou seja, ele é um else), mas ele também tem uma condição que deve ser respeitada (ou seja, ele também é um if). Podemos reescrever nosso código anterior utilizando um `elif`:"
      ],
      "metadata": {
        "id": "RnFFlABYg8qv"
      }
    },
    {
      "cell_type": "code",
      "source": [
        "nota1 = float(input('Digite a nota 1: '))\n",
        "nota2 = float(input('Digite a nota 2: '))\n",
        "\n",
        "media = (nota1 + nota2)/2\n",
        "\n",
        "if media >= 6.0:\n",
        "   print('Aprovado')\n",
        "elif media >= 3.0:\n",
        "   print('Recuperação')\n",
        "else:\n",
        "   print('Reprovado')\n",
        "\n",
        "print('Média: ', media)"
      ],
      "metadata": {
        "colab": {
          "base_uri": "https://localhost:8080/"
        },
        "id": "86LUC3n8kZu_",
        "outputId": "f72099f6-3c56-4223-d04c-5bc5233428bd"
      },
      "execution_count": null,
      "outputs": [
        {
          "output_type": "stream",
          "name": "stdout",
          "text": [
            "Digite a nota 1: 1\n",
            "Digite a nota 2: 2\n",
            "Reprovado\n",
            "Média:  1.5\n"
          ]
        }
      ]
    },
    {
      "cell_type": "markdown",
      "source": [
        "É uma boa prática criar uma variável com a condição de um `if` caso seja uma expressão muito grande.\n",
        "\n",
        "É interessante não repetir comandos para condições quando se usa aninhamento de `ifs`."
      ],
      "metadata": {
        "id": "bQh3pdGh8stH"
      }
    },
    {
      "cell_type": "markdown",
      "source": [
        "Exercício notas. Verificar se a nota é maior que zero e menor que 10"
      ],
      "metadata": {
        "id": "ez7VWlSpBUOo"
      }
    },
    {
      "cell_type": "code",
      "source": [
        "nota1 = float(input('Digite a nota 1: '))\n",
        "nota2 = float(input('Digite a nota 2: '))\n",
        "\n",
        "media = (nota1 + nota2)/2\n",
        "\n",
        "condicao = 0 <= nota1 <= 10 or 0 <= nota2 <= 10\n",
        "\n",
        "if not condicao or media <= 5:\n",
        "  print('Reprovado')\n",
        "else:\n",
        "  if media >=7:\n",
        "    print('Aprovado')\n",
        "  else:\n",
        "    print('Recuperação')"
      ],
      "metadata": {
        "colab": {
          "base_uri": "https://localhost:8080/"
        },
        "id": "Xw9_HcIuBcjH",
        "outputId": "7ebb12ac-0c82-41b4-9045-99c57e4a09b2"
      },
      "execution_count": null,
      "outputs": [
        {
          "output_type": "stream",
          "name": "stdout",
          "text": [
            "Digite a nota 1: 10\n",
            "Digite a nota 2: 6\n",
            "Aprovado\n"
          ]
        }
      ]
    },
    {
      "cell_type": "markdown",
      "source": [
        "# Aula 3\n",
        "\n",
        "16/10/2023\n"
      ],
      "metadata": {
        "id": "kHN-YdPmI0br"
      }
    },
    {
      "cell_type": "markdown",
      "source": [
        "## Malhas de repetição condicionais:\n",
        "\n",
        "### Enquanto:\n",
        "\n",
        "> Em Python, a instrução `while` é bastante parecida com o `if`: ela possui uma expressão lógica, e seu conteúdo só será executado se a expressão for verdadeira. Porém, após chegar ao final, ela retorna ao início e testa novamente a condição.\n"
      ],
      "metadata": {
        "id": "rD1o8Y42JLQN"
      }
    },
    {
      "cell_type": "code",
      "source": [
        "idade = int(input('Digite a idade: '))\n",
        "\n",
        "while idade < 0 or idade > 150:\n",
        "  print('Erro! Idade deve estar entre 0 e 150!')\n",
        "  idade = int(input('Digite a idade: '))\n",
        "\n",
        "print('Obrigado!')"
      ],
      "metadata": {
        "colab": {
          "base_uri": "https://localhost:8080/"
        },
        "id": "zeGBvibIJJmV",
        "outputId": "d1d48bb9-567f-49e0-9200-8a23b1aaf5be"
      },
      "execution_count": null,
      "outputs": [
        {
          "output_type": "stream",
          "name": "stdout",
          "text": [
            "Digite a idade: -1\n",
            "Erro! Idade deve estar entre 0 e 150!\n",
            "Digite a idade: 40\n",
            "Obrigado!\n"
          ]
        }
      ]
    },
    {
      "cell_type": "markdown",
      "source": [
        "### Sequências Numéricas:\n",
        "\n",
        "\n"
      ],
      "metadata": {
        "id": "GUWPG_zopn4G"
      }
    },
    {
      "cell_type": "code",
      "source": [
        "final = int(input('Digite o valor final da sequência: '))\n",
        "numero = 1\n",
        "\n",
        "while numero <= final:\n",
        "  print(numero)\n",
        "  numero = numero + 1"
      ],
      "metadata": {
        "colab": {
          "base_uri": "https://localhost:8080/"
        },
        "id": "iw64wAzJpfDa",
        "outputId": "c5b300ee-ae97-4489-d5a8-5674d275ab1c"
      },
      "execution_count": null,
      "outputs": [
        {
          "output_type": "stream",
          "name": "stdout",
          "text": [
            "Digite o valor final da sequência: 6\n",
            "1\n",
            "2\n",
            "3\n",
            "4\n",
            "5\n",
            "6\n"
          ]
        }
      ]
    },
    {
      "cell_type": "markdown",
      "source": [
        "O programa acima pede para o usuário digitar um número, que será o valor final da sequência. Então ele irá imprimir a variável numero, que vale 1, e somar +1 nela. Em seguida imprimirá de novo a variável, agora valendo 2, e somará +1 nela. E assim sucessivamente até que ela ultrapasse o valor final, quando o loop deixará de ser executado.\n",
        "\n",
        "\n",
        "Podemos fazer também de forma decrescente:"
      ],
      "metadata": {
        "id": "G10txB0Hqdhi"
      }
    },
    {
      "cell_type": "code",
      "source": [
        "numero = int(input('Digite o valor final da sequência: '))\n",
        "final = 1\n",
        "\n",
        "while numero >= final:\n",
        "  print(numero)\n",
        "  numero = numero - 1"
      ],
      "metadata": {
        "colab": {
          "base_uri": "https://localhost:8080/"
        },
        "id": "vLhEGTrVqj1m",
        "outputId": "9619b485-34c0-4792-ebcd-a330be2750d4"
      },
      "execution_count": null,
      "outputs": [
        {
          "output_type": "stream",
          "name": "stdout",
          "text": [
            "Digite o valor final da sequência: 6\n",
            "6\n",
            "5\n",
            "4\n",
            "3\n",
            "2\n",
            "1\n"
          ]
        }
      ]
    },
    {
      "cell_type": "markdown",
      "source": [
        "### Comando de manipulação de fluxo:\n",
        "\n",
        "É possível manipular de algumas maneiras a forma como uma malha de repetição se comporta: nós podemos interromper sua execução sem que sua condição de parada tenha sido atingida e podemos saltar para o próximo passo sem finalizar o atual."
      ],
      "metadata": {
        "id": "TKE5Km2Bqdfo"
      }
    },
    {
      "cell_type": "markdown",
      "source": [
        "#### Break\n",
        "\n",
        "Vamos montar um exemplo simples: imagine que você irá fazer um joguinho onde o usuário terá 10 tentativas para adivinhar um número secreto."
      ],
      "metadata": {
        "id": "rQGRhUsPqdc_"
      }
    },
    {
      "cell_type": "code",
      "source": [
        "numero_secreto = 42\n",
        "\n",
        "contador = 0\n",
        "\n",
        "while contador < 10:\n",
        "  tentativa = int(input('Adivinhe o número secreto: '))\n",
        "  if tentativa == numero_secreto:\n",
        "    print('Acertou')\n",
        "    break\n",
        "  print('Errou\\n')\n",
        "  contador += 1"
      ],
      "metadata": {
        "colab": {
          "base_uri": "https://localhost:8080/"
        },
        "id": "se6bY8ILrUaa",
        "outputId": "f6a77034-5dab-4555-bf58-5d4621ab3a8e"
      },
      "execution_count": null,
      "outputs": [
        {
          "output_type": "stream",
          "name": "stdout",
          "text": [
            "Adivinhe o número secreto: 20\n",
            "Errou\n",
            "\n",
            "Adivinhe o número secreto: 22\n",
            "Errou\n",
            "\n",
            "Adivinhe o número secreto: 42\n",
            "Acertou\n"
          ]
        }
      ]
    },
    {
      "cell_type": "markdown",
      "source": [
        "> Alguns programadores utilizam `while True: `(ou seja, um *loop* a princípio infinito) e no corpo do *loop* espalham combinações de *if + break*. Exceto em situações muito específicas e raras, isso é uma má prática e deve ser evitada, pois compromete bastante a legibilidade do código, e consequentemente sua manutenção no futuro."
      ],
      "metadata": {
        "id": "0DjHFqfvqdai"
      }
    },
    {
      "cell_type": "markdown",
      "source": [
        "#### Else\n",
        "\n",
        "Podemos utilizar o else em um while\n",
        "\n",
        "\n",
        "```\n",
        "while (condicao_principal):\n",
        "  ...\n",
        "  ...\n",
        "  if (condicao_secundaria):\n",
        "    break\n",
        "  ...\n",
        "  ...\n",
        "else:\n",
        "  ...\n",
        "```\n",
        "\n",
        "\n",
        "Sendo assim, podemos reescrever nosso programa principal de maneira mais *pythonica* utilizando esse recurso:"
      ],
      "metadata": {
        "id": "PrR0EqxwqdYK"
      }
    },
    {
      "cell_type": "code",
      "source": [
        "numero_secreto = 42\n",
        "contador = 0\n",
        "\n",
        "while contador < 10:\n",
        "  tentativa = int(input('Adivinhe o número secreto: '))\n",
        "  if tentativa == numero_secreto:\n",
        "    print('Acertou!')\n",
        "    break\n",
        "  print('Errou')\n",
        "  contador += 1\n",
        "else:\n",
        "  print('Acabaram as tentativas. Você perdeu.')"
      ],
      "metadata": {
        "colab": {
          "base_uri": "https://localhost:8080/"
        },
        "id": "b3gAS3IL5Fbl",
        "outputId": "d5e0df67-8e98-4759-c40a-874464741ede"
      },
      "execution_count": null,
      "outputs": [
        {
          "output_type": "stream",
          "name": "stdout",
          "text": [
            "Adivinhe o número secreto: 20\n",
            "Errou\n",
            "Adivinhe o número secreto: 22\n",
            "Errou\n",
            "Adivinhe o número secreto: 10\n",
            "Errou\n",
            "Adivinhe o número secreto: 90\n",
            "Errou\n",
            "Adivinhe o número secreto: 40\n",
            "Errou\n",
            "Adivinhe o número secreto: 30\n",
            "Errou\n",
            "Adivinhe o número secreto: 33\n",
            "Errou\n",
            "Adivinhe o número secreto: 40\n",
            "Errou\n",
            "Adivinhe o número secreto: 99\n",
            "Errou\n",
            "Adivinhe o número secreto: 12\n",
            "Errou\n",
            "Acabaram as tentativas. Você perdeu.\n"
          ]
        }
      ]
    },
    {
      "cell_type": "markdown",
      "source": [
        "### Continue\n",
        "\n",
        "Existe outro comando de **desvio de fluxo** de malhas de repetição: o `continue`. A diferença entre ele e o `break` é que o continue encerra apenas o passo atual de repetição, mas ele não encerra o loop como um todo. Quando executamos esse comando, o *loop* irá voltar para o topo, testar novamente sua condição de parada, e caso ela não tenha sido atingida, ele iniciará uma nova iteração (ou seja, um novo passo em um *loop*).\n",
        "\n",
        "Vamos reescrever nosso programa anterior invertendo a verificação para vermos o continue em ação."
      ],
      "metadata": {
        "id": "CV9sjgw4qdVk"
      }
    },
    {
      "cell_type": "code",
      "source": [
        "numero_secreto = 42\n",
        "\n",
        "contador = 0\n",
        "\n",
        "while contador < 10:\n",
        "  tentativa = int(input('Adivinhe o número secreto: '))\n",
        "  contador += 1\n",
        "  if tentativa != numero_secreto:\n",
        "    print('Errou!')\n",
        "    continue\n",
        "  print('Acertou!')\n",
        "  break\n",
        "else:\n",
        "  print('Acabaram as tentativas. Você perdeu.')"
      ],
      "metadata": {
        "colab": {
          "base_uri": "https://localhost:8080/"
        },
        "id": "vemgAw3P5owx",
        "outputId": "92a0af83-68c0-4451-c94a-d27cf0144ba1"
      },
      "execution_count": null,
      "outputs": [
        {
          "output_type": "stream",
          "name": "stdout",
          "text": [
            "Adivinhe o número secreto: 10\n",
            "Errou!\n",
            "Adivinhe o número secreto: 20\n",
            "Errou!\n",
            "Adivinhe o número secreto: 30\n",
            "Errou!\n",
            "Adivinhe o número secreto: 40\n",
            "Errou!\n",
            "Adivinhe o número secreto: 42\n",
            "Acertou!\n"
          ]
        }
      ]
    },
    {
      "cell_type": "markdown",
      "source": [
        "Sempre que o usuário errar o chute, o `continue` irá desviar o fluxo de execução de volta para o início do *loop*, impedindo que as duas últimas linhas do *loop* sejam executadas. Ou seja, ele não irá dizer \"acertou\", tampouco executar o break.\n",
        "\n",
        "> **Atenção:** todos os desvios estudados aqui podem ser utilizados, caso contrário, não existiriam. Porém, em certas situações eles podem tornar o código mais confuso. Por exemplo, quando temos diversos loops aninhados, pode não ficar claro para alguém lendo o código qual dos loops está sendo encerrado. Sempre que for utilizar esses recursos, verifiquem se eles estão melhorando ou piorando a legibilidade do código."
      ],
      "metadata": {
        "id": "4KwAPVvi5yUz"
      }
    },
    {
      "cell_type": "markdown",
      "source": [
        "# Aula 4\n",
        "\n",
        "18/10/2023"
      ],
      "metadata": {
        "id": "7qRppuaqJM-e"
      }
    },
    {
      "cell_type": "markdown",
      "source": [
        "### Loop do tipo 'para':\n",
        " Ideal para quando se sabe quando se quer para a repetição.\n"
      ],
      "metadata": {
        "id": "NygBrEt0pK9w"
      }
    },
    {
      "cell_type": "code",
      "source": [
        "for contador in range(10): # 10 valores, de 0 a 9\n",
        "  print(contador, end = ' ')"
      ],
      "metadata": {
        "colab": {
          "base_uri": "https://localhost:8080/"
        },
        "id": "dtycelY4rTJA",
        "outputId": "ba9da761-6684-4808-bc9f-9de5c1363fc4"
      },
      "execution_count": null,
      "outputs": [
        {
          "output_type": "stream",
          "name": "stdout",
          "text": [
            "0 1 2 3 4 5 6 7 8 9 "
          ]
        }
      ]
    },
    {
      "cell_type": "markdown",
      "source": [
        "podemos alterar o início e o passo do `range()`:"
      ],
      "metadata": {
        "id": "6D6ZDcTarS2w"
      }
    },
    {
      "cell_type": "code",
      "source": [
        "for contador in range(2,20,2): # de 2 até 20, de 2 em 2\n",
        "  print(contador, end = ' ')"
      ],
      "metadata": {
        "colab": {
          "base_uri": "https://localhost:8080/"
        },
        "id": "ZikQEPAxr5ZL",
        "outputId": "d46cbb11-04eb-4083-a53e-d89cbbe3c6f9"
      },
      "execution_count": null,
      "outputs": [
        {
          "output_type": "stream",
          "name": "stdout",
          "text": [
            "2 4 6 8 10 12 14 16 18 "
          ]
        }
      ]
    },
    {
      "cell_type": "code",
      "source": [
        "for contador in range(10,0,-1): # de 10 até 0, decrescendo 1\n",
        "  print(contador, end = ' ')"
      ],
      "metadata": {
        "colab": {
          "base_uri": "https://localhost:8080/"
        },
        "id": "j0f7UKSxsC6J",
        "outputId": "b6ff045e-960e-46f2-f19f-d172e37dedd0"
      },
      "execution_count": null,
      "outputs": [
        {
          "output_type": "stream",
          "name": "stdout",
          "text": [
            "10 9 8 7 6 5 4 3 2 1 "
          ]
        }
      ]
    },
    {
      "cell_type": "markdown",
      "source": [
        "### comando de desvio de fluxo:\n",
        "\n",
        "Os comandos de desvio de fluxo que estudamos junto do while (*break*, *continue* e *else*) também funcionam da mesma maneira com o for. Algumas observações sobre eles:\n",
        "\n",
        "- **break**: irá encerrar o loop antes de atingir o fim da sequência\n",
        "- **else**: será executado caso um break seja executado e ignorado caso o loop chegue ao final da sequência\n",
        "- **continue**: encerra o passo atual e passa para o próximo avançando na sequência automaticamente.\n"
      ],
      "metadata": {
        "id": "2ELy37s2tX-w"
      }
    },
    {
      "cell_type": "markdown",
      "source": [
        "## Lista\n",
        "\n",
        ">  Listas são coleções de objetos em Python. Falando de maneira simplificada, são variáveis que comportam diversos valores ao mesmo tempo."
      ],
      "metadata": {
        "id": "Ydr10gsutn3s"
      }
    },
    {
      "cell_type": "markdown",
      "source": [
        "criando uma lista vazia:"
      ],
      "metadata": {
        "id": "Ialg9a0EuLKi"
      }
    },
    {
      "cell_type": "code",
      "source": [
        "primeira_lista = [] # cria uma lista vazia\n",
        "# - ou -\n",
        "segunda_lista = list() # cria uma lista vazia"
      ],
      "metadata": {
        "id": "-w3WKc0LuNn_"
      },
      "execution_count": null,
      "outputs": []
    },
    {
      "cell_type": "markdown",
      "source": [
        "criando uma lista com valores:"
      ],
      "metadata": {
        "id": "RvjaEdRquSuM"
      }
    },
    {
      "cell_type": "code",
      "source": [
        "lista = [1,3,5,7,9,11,13,15,18,21]\n",
        "listaB = [1, 'W', True, [0, 9, 10]] # podemos criar uma lista com vários tipos de variáveis\n",
        "                                    # inclusive uma lista"
      ],
      "metadata": {
        "id": "ZT2OE02zlHRM"
      },
      "execution_count": null,
      "outputs": []
    },
    {
      "cell_type": "markdown",
      "source": [
        "o primeiro elemento da lista fica na posição **ZERO**!"
      ],
      "metadata": {
        "id": "kREvtUfcuqlk"
      }
    },
    {
      "cell_type": "code",
      "source": [
        "print(f'posição 0:\\t{listaB[0]}\\nposição 1:\\t{listaB[1]}\\nposição 2:\\t{listaB[2]}\\nposição 3:\\t{listaB[3]} ')"
      ],
      "metadata": {
        "colab": {
          "base_uri": "https://localhost:8080/"
        },
        "id": "QEam_DNYu1vT",
        "outputId": "9f3950ed-d200-4e6c-a45c-8ade1d0bede5"
      },
      "execution_count": null,
      "outputs": [
        {
          "output_type": "stream",
          "name": "stdout",
          "text": [
            "posição 0:\t1\n",
            "posição 1:\tW\n",
            "posição 2:\tTrue\n",
            "posição 3:\t[0, 9, 10] \n"
          ]
        }
      ]
    },
    {
      "cell_type": "markdown",
      "source": [
        "A lista é **mutável**. Isso significa que podemos modificar os valores já existentes:"
      ],
      "metadata": {
        "id": "S4HqF4PQvkxG"
      }
    },
    {
      "cell_type": "code",
      "source": [
        "terceira_lista = [1, 3.14, 5, 7, 9, 'onze'] # lista com valores\n",
        "terceira_lista[3] = 'sete' # troca 7 por 'sete' na lista\n",
        "print(terceira_lista)"
      ],
      "metadata": {
        "colab": {
          "base_uri": "https://localhost:8080/"
        },
        "id": "ImhB1UQavkWj",
        "outputId": "7ae80498-f109-4f22-edd9-fd6023a81a26"
      },
      "execution_count": null,
      "outputs": [
        {
          "output_type": "stream",
          "name": "stdout",
          "text": [
            "[1, 3.14, 5, 'sete', 9, 'onze']\n"
          ]
        }
      ]
    },
    {
      "cell_type": "markdown",
      "source": [
        "É possível utilizar **índices negativos**. lista[-1] pega o último elemento, lista[-2] o penúltimo, e assim sucessivamente. Mas não é possível acessar índices iguais ou superiores ao tamanho da lista. A tentativa de acessar um índice inexistente resultará em erro."
      ],
      "metadata": {
        "id": "6HdVdpcwvtwb"
      }
    },
    {
      "cell_type": "code",
      "source": [
        "terceira_lista[-1]"
      ],
      "metadata": {
        "colab": {
          "base_uri": "https://localhost:8080/",
          "height": 36
        },
        "id": "57AmWYC1lH80",
        "outputId": "90572997-12ca-455a-f555-89f6b0155809"
      },
      "execution_count": null,
      "outputs": [
        {
          "output_type": "execute_result",
          "data": {
            "text/plain": [
              "'onze'"
            ],
            "application/vnd.google.colaboratory.intrinsic+json": {
              "type": "string"
            }
          },
          "metadata": {},
          "execution_count": 11
        }
      ]
    },
    {
      "cell_type": "markdown",
      "source": [
        "### Quebrando Listas (*Slicing*):\n",
        "\n",
        "É possível pegar subconjuntos de nossas listas utilizando o conceito de slices. Ao invés de passar apenas 1 valor entre colchetes (o índice desejado), podemos passar faixas de valores. Veja o exemplo abaixo:"
      ],
      "metadata": {
        "id": "SzrTtYD6v2oq"
      }
    },
    {
      "cell_type": "code",
      "source": [
        "impares = [1, 3, 5, 7, 9, 11, 13, 15, 17]\n",
        "meio = impares[3:6] # do terceiro ao quinto (início inclusivo - final exclusivo)\n",
        "print(meio)"
      ],
      "metadata": {
        "colab": {
          "base_uri": "https://localhost:8080/"
        },
        "id": "1p1uvciqv9xy",
        "outputId": "aed9fb83-e47b-4ac4-c791-47410000c853"
      },
      "execution_count": null,
      "outputs": [
        {
          "output_type": "stream",
          "name": "stdout",
          "text": [
            "[7, 9, 11]\n"
          ]
        }
      ]
    },
    {
      "cell_type": "code",
      "source": [
        "impares = [1, 3, 5, 7, 9, 11, 13, 15, 17, 19]\n",
        "primeira_metade = impares[:5] # do 'zerézimo' até o quarto (quinto exclusivo)\n",
        "segunda_metade = impares[5:] # do quinto até o último\n",
        "print(primeira_metade)\n",
        "print(segunda_metade)"
      ],
      "metadata": {
        "colab": {
          "base_uri": "https://localhost:8080/"
        },
        "id": "Fyid2X7UwRXG",
        "outputId": "f5a1271e-67cb-45d8-c73b-dc959296c784"
      },
      "execution_count": null,
      "outputs": [
        {
          "output_type": "stream",
          "name": "stdout",
          "text": [
            "[1, 3, 5, 7, 9]\n",
            "[11, 13, 15, 17, 19]\n"
          ]
        }
      ]
    },
    {
      "cell_type": "markdown",
      "source": [
        "Os exemplos anteriores está implícito o passo =1, porém pode-se modifica o passo."
      ],
      "metadata": {
        "id": "rAr94Fzvwmg_"
      }
    },
    {
      "cell_type": "code",
      "source": [
        "numeros = [0, 1, 2, 3, 4, 5, 6, 7, 8, 9, 10, 11, 12, 13, 14, 15]\n",
        "# múltiplos de 3 abaixo de 10:\n",
        "mult3_sub10 = numeros[3:10:3]\n",
        "print(mult3_sub10)\n",
        "mult3_sub10_inverso = numeros[9:2:-3] # primeiro valor incluido e o último exclusivo\n",
        "print(mult3_sub10_inverso)"
      ],
      "metadata": {
        "colab": {
          "base_uri": "https://localhost:8080/"
        },
        "id": "RbgUFepJwxRK",
        "outputId": "b9827a2a-f58e-4d4c-db91-c383fffe797e"
      },
      "execution_count": null,
      "outputs": [
        {
          "output_type": "stream",
          "name": "stdout",
          "text": [
            "[3, 6, 9]\n",
            "[9, 6, 3]\n"
          ]
        }
      ]
    },
    {
      "cell_type": "markdown",
      "source": [
        "> **Atenção:** quando nós atribuímos uma lista a outra variável, a lista não é copiada. Observe o exemplo abaixo:"
      ],
      "metadata": {
        "id": "6kDikmYZxc9g"
      }
    },
    {
      "cell_type": "code",
      "source": [
        "lista1 = [1, 3, 5]\n",
        "lista2 = lista1\n",
        "lista2.append(7)\n",
        "print(lista1)\n",
        "print(lista2)"
      ],
      "metadata": {
        "colab": {
          "base_uri": "https://localhost:8080/"
        },
        "id": "PXcuO3Nm0iH7",
        "outputId": "ae3f29e6-784c-46be-a77d-13c5c66cac17"
      },
      "execution_count": null,
      "outputs": [
        {
          "output_type": "stream",
          "name": "stdout",
          "text": [
            "[1, 3, 5, 7]\n",
            "[1, 3, 5, 7]\n"
          ]
        }
      ]
    },
    {
      "cell_type": "markdown",
      "source": [
        "Modificações aplicadas em `lista2` também afetarão a `lista1`. Isso ocorre porque não foi criada uma lista. **O Python apenas fez com que ambas as variáveis (lista1 e lista2) referenciassem a mesma estrutura na memória**. Quando utilizamos `slices`, isso não ocorre. O Python cria uma lista contendo os valores restritos pelos índices. Sendo assim, uma estratégia fácil para copiar uma lista para outra é utilizar um slice indo da primeira à última posição:"
      ],
      "metadata": {
        "id": "B4kMt9SCxc6g"
      }
    },
    {
      "cell_type": "code",
      "source": [
        "lista1 = [1, 3, 5]\n",
        "lista2 = lista1[:]\n",
        "lista2.append(7)\n",
        "print(lista1)\n",
        "print(lista2)"
      ],
      "metadata": {
        "colab": {
          "base_uri": "https://localhost:8080/"
        },
        "id": "HsGS3Xlw0xrv",
        "outputId": "557ff6ae-9de7-4e6a-b9aa-1075b7d2571b"
      },
      "execution_count": null,
      "outputs": [
        {
          "output_type": "stream",
          "name": "stdout",
          "text": [
            "[1, 3, 5]\n",
            "[1, 3, 5, 7]\n"
          ]
        }
      ]
    },
    {
      "cell_type": "markdown",
      "source": [
        "### Percorrendo listas:\n",
        "\n",
        "podemos usar a função `len()` no `for`."
      ],
      "metadata": {
        "id": "5FuPjp98xc4I"
      }
    },
    {
      "cell_type": "code",
      "source": [
        "pares = [0, 2, 4, 6, 8]\n",
        "tamanho = len(pares) # calcula o tamanho da lista\n",
        "\n",
        "# tamanho vale 5, logo índice recebe os valores 0, 1, 2, 3 e 4\n",
        "for indice in range(tamanho):\n",
        "  print(pares[indice], end = ' ')"
      ],
      "metadata": {
        "colab": {
          "base_uri": "https://localhost:8080/"
        },
        "id": "78GszzhZ1uVP",
        "outputId": "14aeefcd-d8ce-4362-e24a-f69c73d16749"
      },
      "execution_count": null,
      "outputs": [
        {
          "output_type": "stream",
          "name": "stdout",
          "text": [
            "0 2 4 6 8 "
          ]
        }
      ]
    },
    {
      "cell_type": "markdown",
      "source": [
        "Porém, tem um jeito ainda mais fácil de percorrer a lista. O `for` não serve apenas para gerar sequências numéricas junto do range: ele serve para **percorrer coleções**. Portanto, podemos trocar o range pela própria lista:"
      ],
      "metadata": {
        "id": "ikTbDUIXxc1u"
      }
    },
    {
      "cell_type": "code",
      "source": [
        "pares = [0, 2, 4, 6, 8]\n",
        "\n",
        "for elemento in pares:\n",
        "  print(elemento, end = ' ')"
      ],
      "metadata": {
        "colab": {
          "base_uri": "https://localhost:8080/"
        },
        "id": "JgSm-myJ18il",
        "outputId": "118d31ae-cc4b-404e-89a0-69e81565d704"
      },
      "execution_count": null,
      "outputs": [
        {
          "output_type": "stream",
          "name": "stdout",
          "text": [
            "0 2 4 6 8 "
          ]
        }
      ]
    },
    {
      "cell_type": "markdown",
      "source": [
        "> **Importante:** Como os elementos são copiados, caso você modifique o valor de elemento você não irá modificar o valor na lista, e sim uma cópia dele. Além disso, como este *loop* serve especificamente para percorrer listas, se dentro dele você fizer operações que alterem o tamanho da lista (`append` ou `remove`, por exemplo), o *loop* poderá executar incorretamente, pulando ou repetindo elementos."
      ],
      "metadata": {
        "id": "Noz-kfFj18aB"
      }
    },
    {
      "cell_type": "markdown",
      "source": [
        "### Testando a existência de valores:\n",
        "\n",
        "> O `in` pode ser utilizado para informar se um elemento está presente em uma lista ou não."
      ],
      "metadata": {
        "id": "fkJqi12O2XfN"
      }
    },
    {
      "cell_type": "code",
      "source": [
        "linguagens = ['Python', 'JavaScript', 'C#', 'Java']\n",
        "\n",
        "existe_html = 'HTML' in linguagens\n",
        "existe_java = 'Java' in linguagens\n",
        "\n",
        "print('HTML:', existe_html)\n",
        "print('Java:', existe_java)"
      ],
      "metadata": {
        "colab": {
          "base_uri": "https://localhost:8080/"
        },
        "id": "mchp1E892WBZ",
        "outputId": "ef173583-fb08-4cf8-955a-1f3d148f269f"
      },
      "execution_count": null,
      "outputs": [
        {
          "output_type": "stream",
          "name": "stdout",
          "text": [
            "HTML: False\n",
            "Java: True\n"
          ]
        }
      ]
    },
    {
      "cell_type": "code",
      "source": [
        "linguagem_desejada = input('Digite a linguagem que você gostaria de aprender: ')\n",
        "\n",
        "linguagens = ['Python', 'JavaScript', 'C#', 'Java']\n",
        "\n",
        "if linguagem_desejada in linguagens:\n",
        "  print('Faça o curso conosco! :)')\n",
        "else:\n",
        "  print('Não temos esse curso disponível no momento :(')"
      ],
      "metadata": {
        "colab": {
          "base_uri": "https://localhost:8080/"
        },
        "id": "dE-xge7S2teG",
        "outputId": "c2c46ecb-1e48-492e-d6ad-07734eb1d087"
      },
      "execution_count": null,
      "outputs": [
        {
          "output_type": "stream",
          "name": "stdout",
          "text": [
            "Digite a linguagem que você gostaria de aprender: R\n",
            "Não temos esse curso disponível no momento :(\n"
          ]
        }
      ]
    },
    {
      "cell_type": "markdown",
      "source": [
        "### Funções de listas:\n",
        "\n",
        "Principais funções:\n",
        "\n",
        "- append\n",
        "- insert\n",
        "- remove\n",
        "- pop\n",
        "- count\n",
        "- sort\n",
        "- sorted\n",
        "- reverse\n",
        "- index\n",
        "- len\n",
        "- max\n",
        "- min\n",
        "- copy"
      ],
      "metadata": {
        "id": "vXQQuNyY18XW"
      }
    },
    {
      "cell_type": "code",
      "source": [
        "# append\n",
        "pares = [0, 2, 4, 6, 8]\n",
        "pares.append(10) # adiciona no final da lista\n",
        "print(pares)"
      ],
      "metadata": {
        "colab": {
          "base_uri": "https://localhost:8080/"
        },
        "id": "2cQBxUW64NG6",
        "outputId": "439aa0c7-c94e-4e6b-9d03-b3b1b7f7ab77"
      },
      "execution_count": null,
      "outputs": [
        {
          "output_type": "stream",
          "name": "stdout",
          "text": [
            "[0, 2, 4, 6, 8, 10]\n"
          ]
        }
      ]
    },
    {
      "cell_type": "code",
      "source": [
        "# insert\n",
        "pares = [0, 2, 4, 8, 10]\n",
        "pares.insert(3, 6) #insert(POSICAO, VALOR)\n",
        "# NÃO SUBSTITUI VALOR\n",
        "print(pares) #resultado: [0, 2, 4, 6, 8, 10]"
      ],
      "metadata": {
        "colab": {
          "base_uri": "https://localhost:8080/"
        },
        "id": "CFEGoYo84Wjr",
        "outputId": "1ec03beb-118b-4586-fed3-aa15f40651bb"
      },
      "execution_count": null,
      "outputs": [
        {
          "output_type": "stream",
          "name": "stdout",
          "text": [
            "[0, 2, 4, 6, 8, 10]\n"
          ]
        }
      ]
    },
    {
      "cell_type": "code",
      "source": [
        "# remove\n",
        "impares = [1, 3, 3, 5, 7, 9]\n",
        "impares.remove(3) # remove o valor\n",
        "print(impares)"
      ],
      "metadata": {
        "colab": {
          "base_uri": "https://localhost:8080/"
        },
        "id": "XgKZunxs4pAb",
        "outputId": "66b5b6e2-9221-4d9e-b4d5-716cb2af29a4"
      },
      "execution_count": null,
      "outputs": [
        {
          "output_type": "stream",
          "name": "stdout",
          "text": [
            "[1, 3, 5, 7, 9]\n"
          ]
        }
      ]
    },
    {
      "cell_type": "code",
      "source": [
        "# pop\n",
        "impares = [1, 3, 5, 7, 8, 9]\n",
        "impares.pop(4) # remove o elemento da posição\n",
        "print(impares)"
      ],
      "metadata": {
        "colab": {
          "base_uri": "https://localhost:8080/"
        },
        "id": "MvMNiFi-5Ftq",
        "outputId": "ff134dcd-ad88-4c9c-ad16-a034d196dac3"
      },
      "execution_count": null,
      "outputs": [
        {
          "output_type": "stream",
          "name": "stdout",
          "text": [
            "[1, 3, 5, 7, 9]\n"
          ]
        }
      ]
    },
    {
      "cell_type": "code",
      "source": [
        "# count\n",
        "  # conta quantas vezes o elemento aparece\n",
        "lista = [1, 2, 3, 2, 1, 5, 2]\n",
        "print(f'quantidade de 1 na lista {lista.count(1)}')\n",
        "lista.count(6)\n",
        "print(f'quantidade de 6 na lista {lista.count(6)}')"
      ],
      "metadata": {
        "colab": {
          "base_uri": "https://localhost:8080/"
        },
        "id": "tpXUp_DKSCYc",
        "outputId": "fc491bc2-08d5-4bf9-f03b-febbfd0c0feb"
      },
      "execution_count": null,
      "outputs": [
        {
          "output_type": "stream",
          "name": "stdout",
          "text": [
            "quantidade de 1 na lista 2\n",
            "quantidade de 6 na lista 0\n"
          ]
        }
      ]
    },
    {
      "cell_type": "code",
      "source": [
        "# sort\n",
        "fibonacci = [8, 1, 0, 5, 13, 1, 3, 2]\n",
        "fibonacci.sort() #ordem crescente\n",
        "print(fibonacci)\n",
        "fibonacci.sort(reverse = True) # decrescente\n",
        "print(fibonacci)"
      ],
      "metadata": {
        "colab": {
          "base_uri": "https://localhost:8080/"
        },
        "id": "AsVGg_X65NNh",
        "outputId": "473ead7e-e4d5-4e75-f55e-176691e185f7"
      },
      "execution_count": null,
      "outputs": [
        {
          "output_type": "stream",
          "name": "stdout",
          "text": [
            "[0, 1, 1, 2, 3, 5, 8, 13]\n",
            "[13, 8, 5, 3, 2, 1, 1, 0]\n"
          ]
        }
      ]
    },
    {
      "cell_type": "markdown",
      "source": [
        "> **Importante:** o `sort` só irá funcionar caso sua lista possua apenas elementos que podem ser comparados entre si (apenas *strings* ou apenas *números*, por exemplo). Se uma lista contém tanto strings quanto números, o sort não saberá o que vem primeiro.\n",
        "\n",
        "Um problema do `sort` é que ele irá reordenar a própria lista. Muitas vezes precisamos preservar a lista original, e obter uma nova com a ordenação desejada. Neste caso, podemos utilizar o `sorted`:\n",
        "\n"
      ],
      "metadata": {
        "id": "-EQniJ2o18U_"
      }
    },
    {
      "cell_type": "code",
      "source": [
        "# sorted\n",
        "fibonacci = [8, 1, 0, 5, 13, 1, 3, 2]\n",
        "fibonacci_ordenada = sorted(fibonacci)\n",
        "print(fibonacci_ordenada,'\\n', fibonacci, sep = '')"
      ],
      "metadata": {
        "colab": {
          "base_uri": "https://localhost:8080/"
        },
        "id": "JDP5-cvu5ldX",
        "outputId": "d8b4ba77-9b23-4671-8813-83b0e34edeea"
      },
      "execution_count": null,
      "outputs": [
        {
          "output_type": "stream",
          "name": "stdout",
          "text": [
            "[0, 1, 1, 2, 3, 5, 8, 13]\n",
            "[8, 1, 0, 5, 13, 1, 3, 2]\n"
          ]
        }
      ]
    },
    {
      "cell_type": "code",
      "source": [
        "# reverse\n",
        "lista = [1, 5, 'dois', 4, 3.14]\n",
        "print(lista)\n",
        "lista.reverse()\n",
        "print(lista)"
      ],
      "metadata": {
        "colab": {
          "base_uri": "https://localhost:8080/"
        },
        "id": "YJ4gYjHH8Sft",
        "outputId": "de79ffba-bebd-4e09-d583-45aa8e44ba61"
      },
      "execution_count": null,
      "outputs": [
        {
          "output_type": "stream",
          "name": "stdout",
          "text": [
            "[1, 5, 'dois', 4, 3.14]\n",
            "[3.14, 4, 'dois', 5, 1]\n"
          ]
        }
      ]
    },
    {
      "cell_type": "code",
      "source": [
        "# index\n",
        "pi = [3, 1, 4, 1, 5, 9, 2, 6, 5]\n",
        "posicao = pi.index(5)\n",
        "print(posicao)"
      ],
      "metadata": {
        "colab": {
          "base_uri": "https://localhost:8080/"
        },
        "id": "bhgcNbnx8j1L",
        "outputId": "fd86dc9b-7c61-4c37-dc77-4faf9770a409"
      },
      "execution_count": null,
      "outputs": [
        {
          "output_type": "stream",
          "name": "stdout",
          "text": [
            "4\n"
          ]
        }
      ]
    },
    {
      "cell_type": "markdown",
      "source": [
        ">**ATENÇÃO:** Ela irá informar a primeira posição onde um elemento for encontrado. Caso o elemento buscado não exista, a função `index` dará erro. Considere utilizar o `in` para verificar se o elemento existe na lista antes de usar o index."
      ],
      "metadata": {
        "id": "WOa65Ly718Sa"
      }
    },
    {
      "cell_type": "code",
      "source": [
        "elem = int(input(\"Informe quantidade de elementos: \"))\n",
        "i = 0\n",
        "\n",
        "lista = []\n",
        "while i <= elem:\n",
        "  lista.append(i)\n",
        "  i += 1\n",
        "\n",
        "lista"
      ],
      "metadata": {
        "colab": {
          "base_uri": "https://localhost:8080/"
        },
        "id": "aiuOFQatlM5k",
        "outputId": "96bab22d-247d-44b0-b784-f3e4c0fd3a9a"
      },
      "execution_count": null,
      "outputs": [
        {
          "name": "stdout",
          "output_type": "stream",
          "text": [
            "Informe quantidade de elementos: 7\n"
          ]
        },
        {
          "output_type": "execute_result",
          "data": {
            "text/plain": [
              "[0, 1, 2, 3, 4, 5, 6, 7]"
            ]
          },
          "metadata": {},
          "execution_count": 5
        }
      ]
    },
    {
      "cell_type": "code",
      "source": [
        "# len\n",
        "\n",
        "tamanho = len(pi)\n",
        "print(tamanho)"
      ],
      "metadata": {
        "colab": {
          "base_uri": "https://localhost:8080/"
        },
        "id": "cYvk7D2o9Apj",
        "outputId": "91201026-a98b-4579-a4a9-24509c577d4a"
      },
      "execution_count": null,
      "outputs": [
        {
          "output_type": "stream",
          "name": "stdout",
          "text": [
            "8\n"
          ]
        }
      ]
    },
    {
      "cell_type": "code",
      "source": [
        "# max\n",
        "\n",
        "maior = max(pi)\n",
        "print(maior)"
      ],
      "metadata": {
        "colab": {
          "base_uri": "https://localhost:8080/"
        },
        "id": "KCcWSy4T9IhG",
        "outputId": "50876f9b-68f8-460a-f246-5695bf25ef0f"
      },
      "execution_count": null,
      "outputs": [
        {
          "output_type": "stream",
          "name": "stdout",
          "text": [
            "9\n"
          ]
        }
      ]
    },
    {
      "cell_type": "code",
      "source": [
        "# min\n",
        "pi = [3, 1, 4, 1, 5, 9, 2, 6]\n",
        "menor = min(pi)\n",
        "print(menor)"
      ],
      "metadata": {
        "colab": {
          "base_uri": "https://localhost:8080/"
        },
        "id": "2fJ9IOBL9OZ-",
        "outputId": "f39a7a0c-7a74-4185-83b2-b7cf16855ea6"
      },
      "execution_count": null,
      "outputs": [
        {
          "output_type": "stream",
          "name": "stdout",
          "text": [
            "1\n"
          ]
        }
      ]
    },
    {
      "cell_type": "code",
      "source": [
        "# copy\n",
        "#cria uma copia e não apenas usa a memória\n",
        "fibonacci = [8, 1, 0, 5, 13, 1, 3, 2]\n",
        "aux = fibonacci.copy() # todas as operações feita na 'original' será feita na cópia\n",
        "\n",
        "print(aux)"
      ],
      "metadata": {
        "colab": {
          "base_uri": "https://localhost:8080/"
        },
        "id": "yfAc2YvzXOnq",
        "outputId": "a03f0d69-a24e-4486-b779-e89f0a11e821"
      },
      "execution_count": null,
      "outputs": [
        {
          "output_type": "stream",
          "name": "stdout",
          "text": [
            "[8, 1, 0, 5, 13, 1, 3, 2]\n"
          ]
        }
      ]
    },
    {
      "cell_type": "markdown",
      "source": [
        "# Aula 5\n",
        "\n",
        "20/10/2023"
      ],
      "metadata": {
        "id": "hqA26axFRTjF"
      }
    },
    {
      "cell_type": "markdown",
      "source": [
        "## Função"
      ],
      "metadata": {
        "id": "C_eEoyyySoDc"
      }
    },
    {
      "cell_type": "markdown",
      "source": [
        "Uma função é um pedacinho de programa. Nós podemos dar um nome para nossa função, e toda vez que precisarmos que esse pedacinho de programa seja executado, nós o chamamos pelo nome.\n",
        "\n",
        "Com isso, podemos evitar repetição de código, tornando nossos códigos mais enxutos e legíveis."
      ],
      "metadata": {
        "id": "023rJnfhRjL0"
      }
    },
    {
      "cell_type": "markdown",
      "source": [
        "Em Python, podemos criar funções com o comando `def`, e em seguida damos um nome para nossa função, como o exemplo abaixo:\n",
        "\n",
        "\n",
        "```\n",
        "# criando a função\n",
        "def minha_primeira_funcao():\n",
        "    print('Olá Mundo')\n",
        "\n",
        "# o programa começa de verdade aqui:\n",
        "minha_primeira_funcao() # chamada para a função\n",
        "```\n",
        "\n"
      ],
      "metadata": {
        "id": "-bDt7p5oRjJM"
      }
    },
    {
      "cell_type": "markdown",
      "source": [
        "### Escopo de uma função:\n",
        "\n",
        "Se você criar uma variável dentro de uma função, dizemos que o escopo dessa variável é a função onde ela foi criada. Isso significa que essa variável existe apenas dentro da função e apenas durante sua execução. Se o seu programa principal possui uma variável chamada \"nome\" e uma função também possui uma variável chamada \"*nome*\", elas não são a mesma variável. Qualquer alteração feita nessa variável dentro da função não irá afetar de maneira alguma a variável externa.\n",
        "\n",
        "Nossas funções devem ser tão genéricas quanto possível se quisermos reaproveitá-las ao máximo.\n",
        "\n",
        "Um dos pontos onde devemos tomar cuidado é na entrada de dados da função: se usarmos um `input` dentro da função, teremos uma função que resolverá um certo problema desde que o usuário vá digitar os dados do problema. Mas e se quisermos usar a função em um trecho do programa onde o usuário digita os dados e em outro ponto onde os dados são lidos de um arquivo?\n",
        "\n",
        "Podemos resolver isso fazendo a leitura de dados no programa principal, fora de nossa função, e então passaremos os dados para a função. Dados passados para a função são chamados de parâmetros ou argumentos de uma função. Observe o exemplo abaixo:\n",
        "\n",
        "```\n",
        "def soma(a, b):\n",
        "    resultado = a + b\n",
        "    print(resultado)\n",
        "\n",
        "soma(3, 2) # resultado na tela: 5\n",
        "soma(4, 7) # resultado na tela: 11\n",
        "x = 5\n",
        "soma(10, x) # resultado na tela: 15\n",
        "```\n",
        "\n",
        "Quando colocamos \"a\" e \"b\" entre parênteses na criação da função, estamos especificando que a função recebe 2 parâmetros. O primeiro valor que for passado entre parênteses para nossa função será referenciado por \"a\" e o segundo será referenciado por \"b\". É como se \"a\" e \"b\" fossem variáveis que vão receber a cópia dos valores passados para a função. Note que podemos passar valores puros ou variáveis (como fizemos com \"x\" na última linha), e não precisamos criar variáveis \"a\" e \"b\" em nosso programa principal para \"casar\" com os parâmetros da função."
      ],
      "metadata": {
        "id": "NqlYBccnRjG0"
      }
    },
    {
      "cell_type": "markdown",
      "source": [
        "#### Retorno da função\n",
        "\n",
        "Certas funções possuem uma \"resposta\": elas resolvem um problema (por exemplo, uma equação matemática) e nós estamos interessados no resultado. No exemplo anterior, tínhamos uma soma e nós imprimíamos a soma na tela.\n",
        "\n",
        "Porém, ainda pensando na questão da função ser genérica: será que nós sempre queremos o resultado na tela? Imagine que você esteja utilizando a fórmula de Bháskara para resolver uma equação de segundo grau. No meio da fórmula existe uma raiz quadrada. Nós não queremos o resultado da raiz quadrada na tela, nós queremos o resultado dentro do nosso programa em uma variável para jogar em outra equação.\n",
        "\n",
        "> Toda variável criada dentro de uma função é **privada**. Ela só pode ser acessada dentro da função e será destruída ao final da execução da função. Para disponibilizar para o programa um valor que foi gerado dentro da função, utilizamos o comando return.\n",
        "\n",
        "```\n",
        "def soma(a, b):\n",
        "    resultado = a + b\n",
        "    return resultado\n",
        "\n",
        "s = soma(10, 5)\n",
        "media = s/2\n",
        "print(media)\n",
        "```\n",
        "\n",
        "Quando fizemos `s = soma(10, 5)`, a função `soma` foi chamada, e ao final da execução, s recebeu o valor retornado por ela. Deste ponto em diante podemos utilizar a \"resposta\" da nossa função em nosso programa principal.\n",
        "\n",
        "O `return`, além de disponibilizar um valor, encerra a execução da função. Se a sua função possuir outras linhas após o `return`, elas serão ignoradas.\n",
        "\n",
        "> **Importante:** o `return` não torna a variável disponível fora da função, e sim o seu valor. Mesmo fazendo `return` resultado, se você tentar acessar resultado fora da função, você encontrará um erro."
      ],
      "metadata": {
        "id": "m7Q3ev58X7hA"
      }
    },
    {
      "cell_type": "markdown",
      "source": [
        "### Recursividade\n",
        "\n",
        "> Função recursiva, ou recursão, é quando uma função chama ela mesma.\n",
        "\n",
        "\n",
        "Um exemplo da utilização da função recursiva é o cálculo do fatorial:"
      ],
      "metadata": {
        "id": "XNb8cEx9Ri_e"
      }
    },
    {
      "cell_type": "code",
      "source": [
        "def fatorial(n):\n",
        "    if n == 1:\n",
        "        return 1\n",
        "    else:\n",
        "        return n * fatorial (n-1)"
      ],
      "metadata": {
        "id": "0zY4EKp4cwLB"
      },
      "execution_count": null,
      "outputs": []
    },
    {
      "cell_type": "code",
      "source": [
        "print(fatorial(3))"
      ],
      "metadata": {
        "colab": {
          "base_uri": "https://localhost:8080/"
        },
        "id": "4vXetaf6cx8A",
        "outputId": "01acd513-ed53-4c05-b9db-bfea53674519"
      },
      "execution_count": null,
      "outputs": [
        {
          "output_type": "stream",
          "name": "stdout",
          "text": [
            "6\n"
          ]
        }
      ]
    },
    {
      "cell_type": "markdown",
      "source": [
        "> A primeira coisa que se escreve numa função recursiva é seu estado de parada!"
      ],
      "metadata": {
        "id": "hZSxdQUQgpoh"
      }
    },
    {
      "cell_type": "markdown",
      "source": [
        "> Note que para cada passo recursivo, as variáveis da função são copiadas e também é salvo o ponto onde a execução parou. Ou seja, funções recursivas podem consumir bastante memória, além de tempo de processamento para ficar criando cópias. A vantagem delas é o rigor matemático: podemos transcrever funções matemáticas quase exatamente como elas são, sem criar *loops* e variáveis para ficar guardando estados."
      ],
      "metadata": {
        "id": "6bgP53CudEow"
      }
    },
    {
      "cell_type": "markdown",
      "source": [],
      "metadata": {
        "id": "9kJJMETfg2v6"
      }
    },
    {
      "cell_type": "markdown",
      "source": [
        "### Documentando funções"
      ],
      "metadata": {
        "id": "mod8J_jfRi9F"
      }
    },
    {
      "cell_type": "markdown",
      "source": [
        "#### *Type Hint*\n",
        "\n",
        "O *Python* utiliza uma abordagem para tipos conhecida como `duck typing`, que é baseada no ditado *\"if it walks like a duck and it quacks like a duck, it's a duck\"*, que pode ser traduzido como \"se ele anda como um pato e grasna como um pato, ele é um pato\".\n",
        "\n",
        "Isso significa que o *Python* não se importa muito com o tipo de variáveis. Nossa função soma recebe dois parâmetros e aplica o operador \"`+`\" entre eles. A gente pode até ter pensado em número ao criar essa função, mas o operador `+` também funciona entre 2 `strings`. Ou seja, se alguém chamar soma('olá', 'mundo'), a função irá funcionar.\n",
        "\n",
        "Nem sempre esse comportamento é desejável. Muitas vezes bolamos nossa função com tipos específicos em mente, e a possibilidade de outros tipos serem passados cria o risco da função não executar corretamente, ou de retornar algum tipo de dado que pode causar problemas na integração com outros sistemas.\n",
        "\n",
        "Para evitar esse tipo de problema existe o conceito de *type hint*, onde nós podemos deixar anotado em nossas funções o tipo esperado de cada parâmetro e do retorno. Utilizaremos dois pontos entre o nome do parâmetro e o tipo esperado, e uma *setinha* após os parênteses para indicar o tipo de retorno:\n",
        "\n",
        "```\n",
        "def soma(a:int, b:int) -> int:\n",
        "    resultado = a + b\n",
        "    return resultado\n",
        "```\n",
        "\n",
        "Note que ainda é possível passar `float`, `str` ou outros tipos para a função, e nesses casos ela também retornará outros tipos. Porém, as *type hints* são uma espécie de anotação, e sempre que um programador começar a digitar uma chamada para essa função, as IDEs mais modernas irão destacar para o programador quais tipos ele deveria passar e quais tipos ele deveria esperar como retorno.\n",
        "\n",
        "É possível também especificar que uma função não retorna nada:\n",
        "\n",
        "```\n",
        "def ola_mundo() -> None:\n",
        "    print('Olá mundo!')\n",
        "```\n",
        "\n",
        "Quando tentamos pegar o retorno de uma função que não retorna nada (ex: x = ola_mundo()), o programa não dará erro. Ele apenas irá armazenar na variável a constante `None`, que é um valor especial em Python que representa justamente a ausência de valor. Uma variável contendo `Nome` é uma variável que existe mas não possui valor atribuído. Dessa maneira, ao anotarmos que nossa função \"retorna None\", estamos na prática documentando que ela não apresenta retorno.\n",
        "\n",
        "Caso você queira que algum parâmetro ou o retorno seja uma coleção (ex: uma lista), basta utilizar o tipo correspondente à coleção. Porém, não é possível especificar que deve ser uma lista de strings ou uma lista de int, por exemplo, mas simplesmente uma lista.\n",
        "```\n",
        "def somatorio(numeros:list) -> int:\n",
        "    soma = 0\n",
        "    for n in numeros:\n",
        "        soma += n\n",
        "    return soma\n",
        "```\n",
        "A partir da **versão 3.10 do Python** é possível utilizar o operador `pipe` (a barra vertical: |) com o efeito de \"ou\" para indicar que mais de um tipo é permitido. A função abaixo recebe uma lista e promete que pode retornar int ou float:\n",
        "```\n",
        "def somatorio(numeros:list) -> int | float:\n",
        "    soma = 0\n",
        "    for n in numeros:\n",
        "        soma += n\n",
        "    return soma"
      ],
      "metadata": {
        "id": "LjAGkHJXS_Au"
      }
    },
    {
      "cell_type": "markdown",
      "source": [
        "#### *Docstrings*\n",
        "\n",
        "Além das *type hints*, podemos também escrever comentários especiais explicando o que as nossas funções fazem. *IDEs* modernas são capazes de identificar esses comentários e exibi-los em um *popup* na tela para o programador que irá usar a função. Esses comentários são chamados de *docstrings*.\n",
        "\n",
        "Para criar uma docstring, a primeira linha da sua função deve ser uma string envolta em 3 aspas simples ou duplas:\n",
        "\n",
        "```\n",
        "def somatorio(numeros:list) -> int | float:\n",
        "'''Recebe uma lista de números e retorna a soma de todos eles'''\n",
        "    soma = 0\n",
        "    for n in numeros:\n",
        "        soma += n\n",
        "    return soma\n",
        "```\n",
        "\n"
      ],
      "metadata": {
        "id": "EywyfwR9TCnl"
      }
    },
    {
      "cell_type": "markdown",
      "source": [
        "## Variável Global:\n",
        "\n",
        "- Ela será constante;\n",
        "- Pode ser utilizada em todos os escopos;\n",
        "- Ela é definida utilizando apenas letras maiúsculas;\n",
        "- Evite o uso de variáveis em vários escopos, use a variável global!"
      ],
      "metadata": {
        "id": "F0tW9yRaYJOI"
      }
    },
    {
      "cell_type": "markdown",
      "source": [
        "## String"
      ],
      "metadata": {
        "id": "gVZjXYOQ9OK4"
      }
    },
    {
      "cell_type": "markdown",
      "source": [
        "> Um string é uma coleção de caracteres, como se fosse uma lista, mas aceitando apenas elementos textuais."
      ],
      "metadata": {
        "id": "OWovLLlv2ChL"
      }
    },
    {
      "cell_type": "markdown",
      "source": [
        "Podemos acessar uma string como um vetor/lista, elemento a elemento."
      ],
      "metadata": {
        "id": "BxRz9ZOX2Ce0"
      }
    },
    {
      "cell_type": "code",
      "source": [
        "frase = \"Let's Code\"\n",
        "print(frase[0])\n",
        "print(frase[1])\n",
        "print(frase[2])\n",
        "print(frase[3])\n",
        "print(frase[4])"
      ],
      "metadata": {
        "colab": {
          "base_uri": "https://localhost:8080/"
        },
        "id": "X-vicZEX2YTy",
        "outputId": "9dce6bac-4197-4750-d7a1-3c7aa2c1758a"
      },
      "execution_count": null,
      "outputs": [
        {
          "output_type": "stream",
          "name": "stdout",
          "text": [
            "L\n",
            "e\n",
            "t\n",
            "'\n",
            "s\n"
          ]
        }
      ]
    },
    {
      "cell_type": "markdown",
      "source": [
        "Porém, ao contrário de uma lista, dizemos que uma string é **imutável**. Isso significa que não podemos alterar um elemento individual da string. O programa abaixo produz um erro:"
      ],
      "metadata": {
        "id": "fI_R5gV02Cb7"
      }
    },
    {
      "cell_type": "code",
      "source": [
        "frase = \"let's code\"\n",
        "frase[0] = 'L'"
      ],
      "metadata": {
        "colab": {
          "base_uri": "https://localhost:8080/",
          "height": 193
        },
        "id": "SPclzi_n2lOi",
        "outputId": "d0f13a94-c4c3-4631-8fb8-a34492072b36"
      },
      "execution_count": null,
      "outputs": [
        {
          "output_type": "error",
          "ename": "TypeError",
          "evalue": "ignored",
          "traceback": [
            "\u001b[0;31m---------------------------------------------------------------------------\u001b[0m",
            "\u001b[0;31mTypeError\u001b[0m                                 Traceback (most recent call last)",
            "\u001b[0;32m<ipython-input-2-031ca96e901f>\u001b[0m in \u001b[0;36m<cell line: 2>\u001b[0;34m()\u001b[0m\n\u001b[1;32m      1\u001b[0m \u001b[0mfrase\u001b[0m \u001b[0;34m=\u001b[0m \u001b[0;34m\"let's code\"\u001b[0m\u001b[0;34m\u001b[0m\u001b[0;34m\u001b[0m\u001b[0m\n\u001b[0;32m----> 2\u001b[0;31m \u001b[0mfrase\u001b[0m\u001b[0;34m[\u001b[0m\u001b[0;36m0\u001b[0m\u001b[0;34m]\u001b[0m \u001b[0;34m=\u001b[0m \u001b[0;34m'L'\u001b[0m\u001b[0;34m\u001b[0m\u001b[0;34m\u001b[0m\u001b[0m\n\u001b[0m",
            "\u001b[0;31mTypeError\u001b[0m: 'str' object does not support item assignment"
          ]
        }
      ]
    },
    {
      "cell_type": "markdown",
      "source": [
        "### Operação entre string"
      ],
      "metadata": {
        "id": "frEw5obz2k3q"
      }
    },
    {
      "cell_type": "markdown",
      "source": [
        "O operador + serve como um operador de concatenação de strings: unir duas strings."
      ],
      "metadata": {
        "id": "Qk-2zBEo2xa6"
      }
    },
    {
      "cell_type": "code",
      "source": [
        "string1 = 'Olá'\n",
        "string2 = 'Mundo'\n",
        "resultado = string1 + \",\" + \" \" + string2 + \".\"\n",
        "print(resultado)"
      ],
      "metadata": {
        "colab": {
          "base_uri": "https://localhost:8080/"
        },
        "id": "IgTzK97d2zvK",
        "outputId": "315c71c3-cf8d-4d85-8117-067cba7c19a3"
      },
      "execution_count": null,
      "outputs": [
        {
          "output_type": "stream",
          "name": "stdout",
          "text": [
            "Olá, Mundo.\n"
          ]
        }
      ]
    },
    {
      "cell_type": "markdown",
      "source": [
        "Outro operador que funciona é o operador *. Este operador não é usado entre duas strings, mas entre uma string e um int. Ele repetirá a string o número de vezes dado pelo int."
      ],
      "metadata": {
        "id": "nLWVaaCo2CZS"
      }
    },
    {
      "cell_type": "code",
      "source": [
        "string = 'Olá mundo!'\n",
        "multi = string * 3\n",
        "print(multi)"
      ],
      "metadata": {
        "colab": {
          "base_uri": "https://localhost:8080/"
        },
        "id": "s5pKBhLr3DvR",
        "outputId": "4679bdd7-d433-4eaa-875b-0bbba82eecf0"
      },
      "execution_count": null,
      "outputs": [
        {
          "output_type": "stream",
          "name": "stdout",
          "text": [
            "Olá mundo!Olá mundo!Olá mundo!\n"
          ]
        }
      ]
    },
    {
      "cell_type": "markdown",
      "source": [
        "### Operadores Lógicoa:\n",
        "\n",
        "Os operadores lógicos (<, >, <=, =>, != e ==) também funcionam com strings. Esses operadores são **case sensitive**, ou seja, diferenciam maiúsculas de minúsculas.\n",
        "\n",
        "De maneira muito simplificada e desconsiderando diferenças entre maiúsculas e minúsculas, podemos dizer que eles consideram ordem alfabética: 'banana' é maior do que 'abacaxi'.\n",
        "\n",
        "A explicação mais completa é a seguinte: internamente, cada caractere é armazenado como um número. Quando utilizamos qualquer tipo de aplicação que irá exibir um texto, a aplicação usa esses números como índices em uma tabela de codificação de caracteres.\n",
        "\n",
        "Temos diversos esquemas diferentes de codificação de caracteres em uso pelo mundo, e quando você está usando um programa ou navegando por um site e você nota símbolos estranhos no texto, é provável que o autor do texto tenha utilizado uma tabela e o seu computador esteja usando outra."
      ],
      "metadata": {
        "id": "vLpnhCOs2CWq"
      }
    },
    {
      "cell_type": "markdown",
      "source": [
        "#### Copiando uma string através de concatenação"
      ],
      "metadata": {
        "id": "VgbsjRuJ2CUS"
      }
    },
    {
      "cell_type": "code",
      "source": [
        "string_inicial = 'Olá Mundo'\n",
        "string_final = '' # cria uma string vazia\n",
        "for letra in string_inicial:\n",
        "    string_final = string_final + letra\n",
        "print(string_final)"
      ],
      "metadata": {
        "colab": {
          "base_uri": "https://localhost:8080/"
        },
        "id": "ZMNU2vMa51Z4",
        "outputId": "731ef4a5-5b35-4f30-81f7-b6ca2d2fb3a7"
      },
      "execution_count": null,
      "outputs": [
        {
          "output_type": "stream",
          "name": "stdout",
          "text": [
            "Olá Mundo\n"
          ]
        }
      ]
    },
    {
      "cell_type": "markdown",
      "source": [
        "### Transformando uma string em lista\n",
        "\n",
        "*Strings* são **imutáveis**, e isso pode nos dar um pouco de trabalho quando queremos fazer pequenas alterações, como forçar um caractere a ser maiúsculo ou acrescentar um caractere à string. Uma das formas envolve transformar a nossa string em lista, que é uma estrutura mutável. Execute o programa abaixo:\n"
      ],
      "metadata": {
        "id": "Npbjnuzk2CDb"
      }
    },
    {
      "cell_type": "code",
      "source": [
        "string = \"let's Code\"\n",
        "lista = list(string)\n",
        "lista[0] = 'L'\n",
        "lista.append('!')\n",
        "print(lista)"
      ],
      "metadata": {
        "colab": {
          "base_uri": "https://localhost:8080/"
        },
        "id": "ZMnqLyP-6D0x",
        "outputId": "0c2596e7-6f55-4a1e-d261-18c3ed6f728c"
      },
      "execution_count": null,
      "outputs": [
        {
          "output_type": "stream",
          "name": "stdout",
          "text": [
            "['L', 'e', 't', \"'\", 's', ' ', 'C', 'o', 'd', 'e', '!']\n"
          ]
        }
      ]
    },
    {
      "cell_type": "code",
      "source": [
        "string_original = \"let's Code\"\n",
        "print(f'String original: {string_original}')\n",
        "lista = list(string_original)\n",
        "print(f'Lista da String: {lista}')\n",
        "lista[0] = 'L' # como lita, podemos alterar apenas uma letra\n",
        "lista.append('!')\n",
        "string_final = ''.join(lista) # antes do . temos uma string vazia\n",
        "print(string_final)"
      ],
      "metadata": {
        "colab": {
          "base_uri": "https://localhost:8080/"
        },
        "id": "Gg4ymis66aDn",
        "outputId": "441cb604-8c5e-472c-8ba0-6f932ac80997"
      },
      "execution_count": null,
      "outputs": [
        {
          "output_type": "stream",
          "name": "stdout",
          "text": [
            "String original: let's Code\n",
            "Lista da String: ['l', 'e', 't', \"'\", 's', ' ', 'C', 'o', 'd', 'e']\n",
            "Let's Code!\n"
          ]
        }
      ]
    },
    {
      "cell_type": "markdown",
      "source": [
        "### Símbolos especiais\n",
        "\n",
        "\n",
        "\n",
        "```\n",
        "\\n #quebra de linha\n",
        "\\t #tabulação\n",
        "\\\\ #barra\n",
        "\\' #aspas simples\n",
        "\\\" #aspas duplas\n",
        "```\n",
        "\n"
      ],
      "metadata": {
        "id": "_68dnP2Y7AIH"
      }
    },
    {
      "cell_type": "markdown",
      "source": [
        "## Funções de string\n",
        "\n",
        "```\n",
        ".upper() #todas as letras maiúsculas\n",
        ".lower() #todas as letras minúsculas\n",
        ".title() #primeira letra de cada palavra maiúscula\n",
        ".capitalize() #primeira letra da string maiúscula\n",
        ".split() #quebra a string\n",
        ".replace() #substituindo elementos na string\n",
        ".join() #concatenando strings em uma coleção\n",
        ".count('<letra>') # conta a quantidade de <letra> na string\n",
        "```\n",
        "\n"
      ],
      "metadata": {
        "id": "6oCQaQTw7Wy2"
      }
    },
    {
      "cell_type": "markdown",
      "source": [
        "### A função `format`"
      ],
      "metadata": {
        "id": "kG4UFkOf8SHH"
      }
    },
    {
      "cell_type": "code",
      "source": [
        "nome = input('Digite seu nome: ')\n",
        "cpf = input('Digite seu cpf: ')\n",
        "endereco = input('Digite seu endereço: ')\n",
        "contrato = 'Eu, {}, portador do CPF {}, residente no endereço {} autorizo o procedimento.'\n",
        "contrato_preenchido = contrato.format(nome, cpf, endereco)\n",
        "print(contrato_preenchido)"
      ],
      "metadata": {
        "colab": {
          "base_uri": "https://localhost:8080/"
        },
        "id": "m_lK0kuY6poo",
        "outputId": "73c6ee75-0b17-485a-852f-60c030fae8b2"
      },
      "execution_count": null,
      "outputs": [
        {
          "output_type": "stream",
          "name": "stdout",
          "text": [
            "Digite seu nome: Amanda\n",
            "Digite seu cpf: 11111111122\n",
            "Digite seu endereço: minha casa\n",
            "Eu, Amanda, portador do CPF 11111111122, residente no endereço minha casa autorizo o procedimento.\n"
          ]
        }
      ]
    },
    {
      "cell_type": "code",
      "source": [
        "dia = 1\n",
        "mes = 2\n",
        "ano = 2020\n",
        "data = '{:02d}/{:02d}/{:04d}'.format(dia, mes, ano)\n",
        "print(data)"
      ],
      "metadata": {
        "colab": {
          "base_uri": "https://localhost:8080/"
        },
        "id": "NmeLH7xh8YzH",
        "outputId": "218d60ca-b494-4d0f-be7b-60452f886169"
      },
      "execution_count": null,
      "outputs": [
        {
          "output_type": "stream",
          "name": "stdout",
          "text": [
            "01/02/2020\n"
          ]
        }
      ]
    },
    {
      "cell_type": "code",
      "source": [
        "preco_litro = 5.234\n",
        "litros = 29.5\n",
        "total = preco_litro * litros\n",
        "print(total)\n",
        "\n",
        "preco_final = 'R$ {:.2f}'.format(total)\n",
        "print(preco_final)"
      ],
      "metadata": {
        "colab": {
          "base_uri": "https://localhost:8080/"
        },
        "id": "Blgbijr58iiW",
        "outputId": "a0c0737e-a3f8-4e17-e40a-c11d83905b39"
      },
      "execution_count": null,
      "outputs": [
        {
          "output_type": "stream",
          "name": "stdout",
          "text": [
            "154.403\n",
            "R$ 154.40\n"
          ]
        }
      ]
    },
    {
      "cell_type": "code",
      "source": [
        "palavra = \"Amanda\"\n",
        "palavra.count('a') # há diferença entre maiúsculo e minúsculo"
      ],
      "metadata": {
        "colab": {
          "base_uri": "https://localhost:8080/"
        },
        "id": "uB2b58jlvnXX",
        "outputId": "e6277055-6479-42e1-9d08-1dcfb8dca28a"
      },
      "execution_count": null,
      "outputs": [
        {
          "output_type": "execute_result",
          "data": {
            "text/plain": [
              "2"
            ]
          },
          "metadata": {},
          "execution_count": 8
        }
      ]
    },
    {
      "cell_type": "markdown",
      "source": [
        "### f-strings"
      ],
      "metadata": {
        "id": "SbZqbTOR8w0W"
      }
    },
    {
      "cell_type": "code",
      "source": [
        "nome = input('Digite seu nome: ')\n",
        "cpf = input('Digite seu cpf: ')\n",
        "endereco = input('Digite seu endereço: ')\n",
        "contrato = f'Eu, {nome}, portador do CPF {cpf}, residente no endereço {endereco} autorizo o procedimento.'\n",
        "print(contrato)"
      ],
      "metadata": {
        "colab": {
          "base_uri": "https://localhost:8080/"
        },
        "id": "mNFILl938pt2",
        "outputId": "c8a819df-b1ed-4518-9fce-d515c0136917"
      },
      "execution_count": null,
      "outputs": [
        {
          "output_type": "stream",
          "name": "stdout",
          "text": [
            "Digite seu nome: amanda\n",
            "Digite seu cpf: 11111111122\n",
            "Digite seu endereço: minha casa\n",
            "Eu, amanda, portador do CPF 11111111122, residente no endereço minha casa autorizo o procedimento.\n"
          ]
        }
      ]
    },
    {
      "cell_type": "code",
      "source": [
        "preco_litro = 5.234\n",
        "litros = 29.5\n",
        "total = preco_litro * litros\n",
        "print(total)\n",
        "\n",
        "preco_final = f'R$ {total:.2f}'\n",
        "print(preco_final)"
      ],
      "metadata": {
        "colab": {
          "base_uri": "https://localhost:8080/"
        },
        "id": "I5dIInx6810_",
        "outputId": "83077433-9407-45db-896e-8391b3b3c981"
      },
      "execution_count": null,
      "outputs": [
        {
          "output_type": "stream",
          "name": "stdout",
          "text": [
            "154.403\n",
            "R$ 154.40\n"
          ]
        }
      ]
    }
  ]
}