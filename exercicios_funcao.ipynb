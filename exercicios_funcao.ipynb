{
  "nbformat": 4,
  "nbformat_minor": 0,
  "metadata": {
    "colab": {
      "provenance": [],
      "authorship_tag": "ABX9TyOzt54gY4SUk6OyA8S1UTkw",
      "include_colab_link": true
    },
    "kernelspec": {
      "name": "python3",
      "display_name": "Python 3"
    },
    "language_info": {
      "name": "python"
    }
  },
  "cells": [
    {
      "cell_type": "markdown",
      "metadata": {
        "id": "view-in-github",
        "colab_type": "text"
      },
      "source": [
        "<a href=\"https://colab.research.google.com/github/RSAmanda/Ada_iFood_Mod01_Logica_de_programacao_1/blob/main/exercicios_funcao.ipynb\" target=\"_parent\"><img src=\"https://colab.research.google.com/assets/colab-badge.svg\" alt=\"Open In Colab\"/></a>"
      ]
    },
    {
      "cell_type": "markdown",
      "source": [
        "1. Escreva uma função que calcule e retorne o dobro de um número inserido. Teste este caso solicitando ao usuário que insira um número e após isso, retorne a resposta."
      ],
      "metadata": {
        "id": "g7i_g3JgeJj5"
      }
    },
    {
      "cell_type": "code",
      "execution_count": null,
      "metadata": {
        "colab": {
          "base_uri": "https://localhost:8080/"
        },
        "id": "NmVSunQ6d5Bc",
        "outputId": "546d5928-a665-4821-d4f6-ea1e33510ec4"
      },
      "outputs": [
        {
          "output_type": "stream",
          "name": "stdout",
          "text": [
            "Informe um valor:\t2\n",
            "O dobro de 2 é 4.\n"
          ]
        }
      ],
      "source": [
        "def dobro(n):\n",
        "  return 2*n\n",
        "\n",
        "\n",
        "valor = int(input(\"Informe um valor:\\t\"))\n",
        "print(f'O dobro de {valor} é {dobro(valor)}.')"
      ]
    },
    {
      "cell_type": "markdown",
      "source": [
        "2. Crie uma função para cálculo do comprimento da circunferência $(C = 2 * 3.14 * R)$, sendo `C` o comprimento e `R` o raio da circunferência."
      ],
      "metadata": {
        "id": "U6Oo4kJ9e6pY"
      }
    },
    {
      "cell_type": "code",
      "source": [
        "PI = 3.14159265358979323846\n",
        "def comp_circunferencia (raio):\n",
        "  return (2*PI*raio)\n",
        "\n",
        "r = float(input(\"Informe o valor do raio: \\t\"))\n",
        "print(f\"A cincurferência é de {comp_circunferencia(r):.2f}\")"
      ],
      "metadata": {
        "colab": {
          "base_uri": "https://localhost:8080/"
        },
        "id": "g5OV552uepG5",
        "outputId": "23c9a860-f8fb-4185-fd10-f32ecbd27503"
      },
      "execution_count": null,
      "outputs": [
        {
          "output_type": "stream",
          "name": "stdout",
          "text": [
            "Informe o valor do raio: \t3\n",
            "A cincurferência é de 18.85\n"
          ]
        }
      ]
    },
    {
      "cell_type": "markdown",
      "source": [
        "3. Faça uma função que emita uma saudação baseada no horário. A função deve receber o nome e o horário (apenas número inteiro) e emita a mensagem com as seguintes condições:\n",
        "\n",
        "- até meio dia (não incluso): \"Bom dia, (VARIAVEL_NOME)\"\n",
        "- entre meio dia (incluso) e 18h (não incluso): \"Boa tarde, (VARIAVEL_NOME)\"\n",
        "- após as 18h (incluso): \"Boa noite, (VARIAVEL_NOME)\""
      ],
      "metadata": {
        "id": "FXUa_XEXi6kq"
      }
    },
    {
      "cell_type": "code",
      "source": [
        "def saudacao(nome, horario):\n",
        "  if horario < 12:\n",
        "    print(f'Bom dia, {nome}!')\n",
        "  elif horario < 18:\n",
        "    print(f'Boa tarde, {nome}!')\n",
        "  else:\n",
        "    print(f'Boa noite, {nome}!')"
      ],
      "metadata": {
        "id": "j4Ccd7JwidEC"
      },
      "execution_count": null,
      "outputs": []
    },
    {
      "cell_type": "code",
      "source": [
        "saudacao(input(\"Informe seu nome:\\t\").title(), int(input(\"Informe o horário:\\t\")))"
      ],
      "metadata": {
        "id": "a2w004YH4iUg",
        "colab": {
          "base_uri": "https://localhost:8080/"
        },
        "outputId": "8954fc02-4ca3-42f4-c158-b09d9c674616"
      },
      "execution_count": null,
      "outputs": [
        {
          "output_type": "stream",
          "name": "stdout",
          "text": [
            "Informe seu nome:\tamanda\n",
            "Informe o horário:\t5\n",
            "Bom dia, Amanda!\n"
          ]
        }
      ]
    },
    {
      "cell_type": "markdown",
      "source": [
        "4. Faça uma função que verifique se um número é par. Teste esta função solicitando ao usuário que digite um número e emitindo a mensagem adequada caso o número seja par ou não."
      ],
      "metadata": {
        "id": "Z58L5fLNjOnW"
      }
    },
    {
      "cell_type": "code",
      "source": [
        "def par_ou_impar(numero):\n",
        "  if numero%2 == 0:\n",
        "    print(f'O número {numero} é par!')\n",
        "  else:\n",
        "    print(f'O número {numero} é ímpar!')\n",
        "\n",
        "par_ou_impar(16)"
      ],
      "metadata": {
        "colab": {
          "base_uri": "https://localhost:8080/"
        },
        "id": "vtciftC2jAQv",
        "outputId": "8da19b32-d238-4dc8-eb92-efc56537e36a"
      },
      "execution_count": null,
      "outputs": [
        {
          "output_type": "stream",
          "name": "stdout",
          "text": [
            "O número 16 é par!\n"
          ]
        }
      ]
    },
    {
      "cell_type": "markdown",
      "source": [
        "5. Crie uma função que recebe duas listas. Caso estas duas listas sejam do mesmo tamanho some os elementos de cada lista com mesmo índica, caso contrário retorne uma lista vazia.\n",
        "Se as duas listas de entrada forem do mesmo tamanho o programa deve se comportar como no exemplo:\n",
        "\n",
        "```\n",
        "lista_01 = [1, 2, 3, 4, 5]\n",
        "lista_02 = [6, 7, 8, 9, 10]\n",
        "\n",
        "soma_listas(lista_01, lista_02)\n",
        "```\n",
        "\n",
        "saída:\n",
        "\n",
        "```\n",
        "[7, 9, 11, 13, 15]\n",
        "```"
      ],
      "metadata": {
        "id": "_E2ZbK9ejq1f"
      }
    },
    {
      "cell_type": "code",
      "source": [
        "def soma_listas(v1, v2):\n",
        "  v_soma = list()\n",
        "  if len(v1) == len(v2):\n",
        "    for i in range(len(v1)):\n",
        "      v_soma.append(v1[i] + v2[i])\n",
        "  return v_soma\n",
        "\n",
        "lista_01 = [1, 2, 3, 4, 5]\n",
        "lista_02 = [6, 7, 8, 9, 10]\n",
        "\n",
        "soma_listas(lista_01, lista_02)"
      ],
      "metadata": {
        "colab": {
          "base_uri": "https://localhost:8080/"
        },
        "id": "UpecXa15jmqV",
        "outputId": "76e15062-668a-4aa1-f961-0d59bd8f4526"
      },
      "execution_count": null,
      "outputs": [
        {
          "output_type": "execute_result",
          "data": {
            "text/plain": [
              "[7, 9, 11, 13, 15]"
            ]
          },
          "metadata": {},
          "execution_count": 9
        }
      ]
    },
    {
      "cell_type": "markdown",
      "source": [
        "6. Utilize a mesma lógica do exercício anterior, porém agora você deve multiplicar os elementos ao invés de somá-los."
      ],
      "metadata": {
        "id": "FfqRnVzolvb-"
      }
    },
    {
      "cell_type": "code",
      "source": [
        "def multiplica_listas(v1, v2):\n",
        "  v_multiplica = list()\n",
        "  if len(v1) == len(v2):\n",
        "    for i in range(len(v1)):\n",
        "      v_multiplica.append(v1[i] * v2[i])\n",
        "  return v_multiplica\n",
        "\n",
        "lista_01 = [1, 2, 3, 4, 5]\n",
        "lista_02 = [6, 7, 8, 9, 10]\n",
        "\n",
        "multiplica_listas(lista_01, lista_02)"
      ],
      "metadata": {
        "colab": {
          "base_uri": "https://localhost:8080/"
        },
        "id": "udO_tokBlAHG",
        "outputId": "6261d501-0909-4983-8052-4cca48fbdca5"
      },
      "execution_count": null,
      "outputs": [
        {
          "output_type": "execute_result",
          "data": {
            "text/plain": [
              "[6, 14, 24, 36, 50]"
            ]
          },
          "metadata": {},
          "execution_count": 10
        }
      ]
    },
    {
      "cell_type": "markdown",
      "source": [
        "7. Faça uma função que recebe uma lista de números e calcula a média destes números."
      ],
      "metadata": {
        "id": "uB3p7RSBmDk-"
      }
    },
    {
      "cell_type": "code",
      "source": [
        "def multiplica_elementos(lista):\n",
        "  media = 0\n",
        "  for i in lista:\n",
        "    media += i\n",
        "  media /= len(lista)\n",
        "  return media\n",
        "\n",
        "lista = [1, 2, 3, 4, 5]\n",
        "multiplica_elementos(lista)"
      ],
      "metadata": {
        "colab": {
          "base_uri": "https://localhost:8080/"
        },
        "id": "cSBO2vbCl_vn",
        "outputId": "63716af6-4800-4b28-db26-b9f467489a2c"
      },
      "execution_count": null,
      "outputs": [
        {
          "output_type": "execute_result",
          "data": {
            "text/plain": [
              "3.0"
            ]
          },
          "metadata": {},
          "execution_count": 11
        }
      ]
    },
    {
      "cell_type": "markdown",
      "source": [
        "8. Faça uma função que calcula o fatorial de um número."
      ],
      "metadata": {
        "id": "wPi8blhVme2N"
      }
    },
    {
      "cell_type": "code",
      "source": [
        "def fatorial(numero):\n",
        "  if numero > 1:\n",
        "    return numero*(fatorial(numero-1))\n",
        "  return numero\n"
      ],
      "metadata": {
        "id": "-U72DB4dmXVN"
      },
      "execution_count": null,
      "outputs": []
    },
    {
      "cell_type": "code",
      "source": [
        "fatorial(5)"
      ],
      "metadata": {
        "colab": {
          "base_uri": "https://localhost:8080/"
        },
        "id": "yh2khk30mv1O",
        "outputId": "89ab895d-2704-464a-8b6b-72d49ca21b44"
      },
      "execution_count": null,
      "outputs": [
        {
          "output_type": "execute_result",
          "data": {
            "text/plain": [
              "120"
            ]
          },
          "metadata": {},
          "execution_count": 17
        }
      ]
    }
  ]
}