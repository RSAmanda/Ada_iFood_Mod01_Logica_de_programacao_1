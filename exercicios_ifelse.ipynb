{
  "cells": [
    {
      "cell_type": "markdown",
      "metadata": {
        "id": "view-in-github",
        "colab_type": "text"
      },
      "source": [
        "<a href=\"https://colab.research.google.com/github/RSAmanda/Ada_iFood_Mod01_Logica_de_programacao_1/blob/main/exercicios_ifelse.ipynb\" target=\"_parent\"><img src=\"https://colab.research.google.com/assets/colab-badge.svg\" alt=\"Open In Colab\"/></a>"
      ]
    },
    {
      "cell_type": "markdown",
      "metadata": {
        "id": "3Zss8PHG_JIL"
      },
      "source": [
        "# Lógica de Programação I - Exercícios IF ELSE"
      ]
    },
    {
      "cell_type": "markdown",
      "metadata": {
        "id": "4s9M7y4m_JIN"
      },
      "source": [
        "1. Peça ao usuário para informar 4 lados consecutivos de um polígono. Veja se é um quadrado ou retâgulo, ou nenhum.\n",
        "Caso seja quadrado ou retângulo, imprima a área calculada."
      ]
    },
    {
      "cell_type": "code",
      "execution_count": null,
      "metadata": {
        "colab": {
          "base_uri": "https://localhost:8080/"
        },
        "id": "4KTGvS0y_JIN",
        "outputId": "ea60e5c7-1c2c-45af-c1e3-a2cf04adb44c"
      },
      "outputs": [
        {
          "output_type": "stream",
          "name": "stdout",
          "text": [
            "Informa o tamanho do lado 1 do polígono:\t1\n",
            "Informa o tamanho do lado 2 do polígono:\t2\n",
            "Informa o tamanho do lado 3 do polígono:\t1\n",
            "Informa o tamanho do lado 4 do polígono:\t2\n",
            "É um retângulo! E sua área é 2.0\n"
          ]
        }
      ],
      "source": [
        "lado1 = float(input('Informa o tamanho do lado 1 do polígono:\\t'))\n",
        "lado2 = float(input('Informa o tamanho do lado 2 do polígono:\\t'))\n",
        "lado3 = float(input('Informa o tamanho do lado 3 do polígono:\\t'))\n",
        "lado4 = float(input('Informa o tamanho do lado 4 do polígono:\\t'))\n",
        "\n",
        "if lado1 == lado2 and lado1 == lado3 and lado1 == lado4:\n",
        "  print(f\"É um quadrado! E sua área é {lado1*lado1}\")\n",
        "elif lado1 == lado3 and lado2 == lado4:\n",
        "  print(f\"É um retângulo! E sua área é {lado1*lado2}\")\n",
        "else:\n",
        "  print(\"Não é quadrado e nem retângulo.\")"
      ]
    },
    {
      "cell_type": "markdown",
      "metadata": {
        "id": "zm4BMz78_JIO"
      },
      "source": [
        "2. Pergunte ao usuário o valor de um produto, e se ele quer aumentar ou diminuir o preço.\n",
        "Pergunte ao usuário o quanto que ele gostaria de diminuir ou acrescentar, em porcentagem, e calcule o novo preço do produto para o usuário."
      ]
    },
    {
      "cell_type": "code",
      "execution_count": null,
      "metadata": {
        "ExecuteTime": {
          "end_time": "2023-06-30T11:59:29.564669Z",
          "start_time": "2023-06-30T11:59:26.316079Z"
        },
        "colab": {
          "base_uri": "https://localhost:8080/"
        },
        "id": "9p4mDTN2_JIO",
        "outputId": "b1bfa22a-35ae-4929-8014-f890fac09047"
      },
      "outputs": [
        {
          "output_type": "stream",
          "name": "stdout",
          "text": [
            "Informe o valor de um produto:\t100\n",
            "Informe A para aumentar o valor ou D para diminuir:\td\n",
            "Informe, em porcentagem, o decréscimo:\t10\n",
            "O valor R$ 100.00 com o decréscimo de 10.0 vai para R$ 110.00\n"
          ]
        }
      ],
      "source": [
        "valor = float(input(\"Informe o valor de um produto:\\t\"))\n",
        "resp_A_D = input(\"Informe A para aumentar o valor ou D para diminuir:\\t\").upper()\n",
        "if resp_A_D == 'A':\n",
        "  porcentagem = float(input(\"Informe, em porcentagem, o acréscimo:\\t\"))\n",
        "  print(f\"O valor R$ {valor:.2f} com o acréscimo de {porcentagem} vai para R$ {round(valor*(1+porcentagem/100)):.2f}\")\n",
        "elif resp_A_D == 'D':\n",
        "  porcentagem = float(input(\"Informe, em porcentagem, o decréscimo:\\t\"))\n",
        "  print(f\"O valor R$ {valor:.2f} com o decréscimo de {porcentagem} vai para R$ {round(valor*(1+porcentagem/100)):.2f}\")\n"
      ]
    },
    {
      "cell_type": "markdown",
      "metadata": {
        "id": "FCT80O-K_JIP"
      },
      "source": [
        "3. Faça um programa que pergunte 4 notas de provas de um aluno, caso a média seja maior ou igual a 6 ele está aprovado, caso seja maior que 5, ele está de recuperação, pergunte a nota da prova de recuperação, caso a média da nota de recuperação com a média das provas seja maior que 6, ele está aprovado, se não reprovado.\n",
        "Caso a média das 4 provas seja menor ou igual a 5 ele está reprovado direto."
      ]
    },
    {
      "cell_type": "code",
      "execution_count": null,
      "metadata": {
        "ExecuteTime": {
          "end_time": "2023-06-30T12:07:17.661704Z",
          "start_time": "2023-06-30T12:07:11.534213Z"
        },
        "colab": {
          "base_uri": "https://localhost:8080/"
        },
        "id": "eIPCqBMd_JIP",
        "outputId": "f91e0ed7-198e-4521-f3da-50f65d3edad6"
      },
      "outputs": [
        {
          "output_type": "stream",
          "name": "stdout",
          "text": [
            "Informe a nota 1:\t5\n",
            "Informe a nota 2:\t7\n",
            "Informe a nota 3:\t4\n",
            "Informe a nota 4:\t5\n",
            "A média foi de 5.25 e o aluno está de recuperação!\n",
            "Informe a nota da recuperação:\t8\n",
            " A nota final foi de 6.62 e o aluno foi aprovado na recuperação.\n"
          ]
        }
      ],
      "source": [
        "media = 0\n",
        "media += float(input('Informe a nota 1:\\t'))\n",
        "media += float(input('Informe a nota 2:\\t'))\n",
        "media += float(input('Informe a nota 3:\\t'))\n",
        "media += float(input('Informe a nota 4:\\t'))\n",
        "\n",
        "media /= 4\n",
        "\n",
        "if media >= 6:\n",
        "  print(f\"A média foi de {media:.2f} e o aluno foi aprovado!\")\n",
        "elif media >= 5:\n",
        "  print(f\"A média foi de {media:.2f} e o aluno está de recuperação!\")\n",
        "  nota_rec = float(input('Informe a nota da recuperação:\\t'))\n",
        "  nota_rec = (nota_rec + media)/2\n",
        "  if nota_rec > 6:\n",
        "    print(f\"A nota final foi de {nota_rec:.2f} e o aluno foi aprovado na recuperação.\")\n",
        "  else:\n",
        "    print(f\" A nota final foi de {nota_rec:.2f} e o aluno foi reprovado na recuperação.\")\n",
        "else:\n",
        "  print(f\"A média foi de {media:.2f} e o aluno foi reprovado!\")"
      ]
    },
    {
      "cell_type": "markdown",
      "metadata": {
        "id": "PuiRtKfs_JIP"
      },
      "source": [
        "4. Pergunte ao usuário que horas são, somente número inteiro, e retorne \"Bom dia!\", caso seja entre 5 horas e 11 horas da manhã, \"Boa tarde!\", caso seja entre 12 horas e 18 horas da tarde, e \"Boa noite!\", caso seja entre 19 horas e 4 horas da manhã."
      ]
    },
    {
      "cell_type": "code",
      "execution_count": null,
      "metadata": {
        "ExecuteTime": {
          "end_time": "2023-06-30T12:09:54.126013Z",
          "start_time": "2023-06-30T12:09:52.435107Z"
        },
        "colab": {
          "base_uri": "https://localhost:8080/"
        },
        "id": "mW54M-ze_JIP",
        "outputId": "cb2cd1fb-9d76-44bf-db0d-14c308f199e7"
      },
      "outputs": [
        {
          "output_type": "stream",
          "name": "stdout",
          "text": [
            "Informe a hora: \t15\n",
            "Boa tarde!\n"
          ]
        }
      ],
      "source": [
        "horas = int(input(\"Informe a hora: \\t\"))\n",
        "if 5 <= horas <= 11:\n",
        "  print(\"Bom dia!\")\n",
        "elif 12 <= horas <= 18:\n",
        "  print(\"Boa tarde!\")\n",
        "else:\n",
        "  print(\"Boa noite!\")"
      ]
    },
    {
      "cell_type": "markdown",
      "metadata": {
        "id": "8AhHeH7k_JIQ"
      },
      "source": [
        "5. Peça o usuário para digitar um número, informe se o número é divisivel por 5, caso seja, informe se o número é par ou impar."
      ]
    },
    {
      "cell_type": "code",
      "execution_count": null,
      "metadata": {
        "ExecuteTime": {
          "end_time": "2023-06-30T12:12:34.437082Z",
          "start_time": "2023-06-30T12:12:33.574849Z"
        },
        "colab": {
          "base_uri": "https://localhost:8080/"
        },
        "id": "AyzoKNVW_JIQ",
        "outputId": "a44bc35f-599c-4cfc-be54-2ac365a12ba4"
      },
      "outputs": [
        {
          "output_type": "stream",
          "name": "stdout",
          "text": [
            "Informe um número positivo e inteiro: \t155\n",
            "O número 155 é divisível por 5 e é ímpar!\n"
          ]
        }
      ],
      "source": [
        "numero = int(input(\"Informe um número positivo e inteiro: \\t\"))\n",
        "if numero%5 == 0:\n",
        "  print(f\"O número {numero} é divisível por 5\", end =' ')\n",
        "  if numero%2 == 0:\n",
        "    print(\"e é par!\")\n",
        "  else:\n",
        "    print(\"e é ímpar!\")"
      ]
    }
  ],
  "metadata": {
    "kernelspec": {
      "display_name": "Python 3 (ipykernel)",
      "language": "python",
      "name": "python3"
    },
    "language_info": {
      "codemirror_mode": {
        "name": "ipython",
        "version": 3
      },
      "file_extension": ".py",
      "mimetype": "text/x-python",
      "name": "python",
      "nbconvert_exporter": "python",
      "pygments_lexer": "ipython3",
      "version": "3.10.2"
    },
    "latex_envs": {
      "LaTeX_envs_menu_present": true,
      "autoclose": false,
      "autocomplete": true,
      "bibliofile": "biblio.bib",
      "cite_by": "apalike",
      "current_citInitial": 1,
      "eqLabelWithNumbers": true,
      "eqNumInitial": 1,
      "hotkeys": {
        "equation": "Ctrl-E",
        "itemize": "Ctrl-I"
      },
      "labels_anchors": false,
      "latex_user_defs": false,
      "report_style_numbering": false,
      "user_envs_cfg": false
    },
    "toc": {
      "base_numbering": 1,
      "nav_menu": {},
      "number_sections": true,
      "sideBar": true,
      "skip_h1_title": false,
      "title_cell": "Table of Contents",
      "title_sidebar": "Contents",
      "toc_cell": false,
      "toc_position": {},
      "toc_section_display": true,
      "toc_window_display": false
    },
    "varInspector": {
      "cols": {
        "lenName": 16,
        "lenType": 16,
        "lenVar": 40
      },
      "kernels_config": {
        "python": {
          "delete_cmd_postfix": "",
          "delete_cmd_prefix": "del ",
          "library": "var_list.py",
          "varRefreshCmd": "print(var_dic_list())"
        },
        "r": {
          "delete_cmd_postfix": ") ",
          "delete_cmd_prefix": "rm(",
          "library": "var_list.r",
          "varRefreshCmd": "cat(var_dic_list()) "
        }
      },
      "types_to_exclude": [
        "module",
        "function",
        "builtin_function_or_method",
        "instance",
        "_Feature"
      ],
      "window_display": false
    },
    "vscode": {
      "interpreter": {
        "hash": "7f52069df51f55474cef70a04f6de2c8e83f851022777c4983d9d0bb63ea6184"
      }
    },
    "colab": {
      "provenance": [],
      "include_colab_link": true
    }
  },
  "nbformat": 4,
  "nbformat_minor": 0
}