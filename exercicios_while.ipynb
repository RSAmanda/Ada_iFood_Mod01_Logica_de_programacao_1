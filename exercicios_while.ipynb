{
  "cells": [
    {
      "cell_type": "markdown",
      "metadata": {
        "id": "view-in-github",
        "colab_type": "text"
      },
      "source": [
        "<a href=\"https://colab.research.google.com/github/RSAmanda/Ada_iFood_Mod01_Logica_de_programacao_1/blob/main/exercicios_while.ipynb\" target=\"_parent\"><img src=\"https://colab.research.google.com/assets/colab-badge.svg\" alt=\"Open In Colab\"/></a>"
      ]
    },
    {
      "cell_type": "markdown",
      "metadata": {
        "id": "Zl54j3VoGGRC"
      },
      "source": [
        "# Lógica de Programação I - WHILE"
      ]
    },
    {
      "cell_type": "markdown",
      "metadata": {
        "id": "CM8jEQo0GGRD"
      },
      "source": [
        "1. Pergunte um usuário quantas provas ele fez, depois pergunte a nota de todas as provas.\n",
        "Calcule a média e caso seja maior ou igual a 6 informe que ele está aprovado, se não reprovado."
      ]
    },
    {
      "cell_type": "code",
      "execution_count": null,
      "metadata": {
        "colab": {
          "base_uri": "https://localhost:8080/"
        },
        "id": "20rCXfMZGGRE",
        "outputId": "772bdcb5-1aad-4964-d4d2-9730d37950f5"
      },
      "outputs": [
        {
          "output_type": "stream",
          "name": "stdout",
          "text": [
            "Informe quantas provas foram realizadas:\t4\n",
            "Informe a nota da prova 1:\t0\n",
            "Informe a nota da prova 2:\t8\n",
            "Informe a nota da prova 3:\t5.7\n",
            "Informe a nota da prova 4:\t7\n",
            "Sua média foi de 5.00 e você foi reprovado.\n"
          ]
        }
      ],
      "source": [
        "qtd_provas = int(input(\"Informe quantas provas foram realizadas:\\t\"))\n",
        "media = 0\n",
        "contador = 0\n",
        "while qtd_provas > contador:\n",
        "  media += float(input(f\"Informe a nota da prova {contador+1}:\\t\"))\n",
        "  contador += 1\n",
        "media/= qtd_provas\n",
        "if media >= 6.0:\n",
        "  print(f\"Sua média foi de {round(media):.2f} e você foi aprovado.\")\n",
        "else:\n",
        "  print(f\"Sua média foi de {round(media):.2f} e você foi reprovado.\")"
      ]
    },
    {
      "cell_type": "markdown",
      "metadata": {
        "id": "XSSaQRdbGGRE"
      },
      "source": [
        "2. Faça um programa que o usuário digite quantos números quiser, ate que digite sair.\n",
        "Retorne a soma e a média dos números digitados."
      ]
    },
    {
      "cell_type": "code",
      "execution_count": null,
      "metadata": {
        "colab": {
          "base_uri": "https://localhost:8080/"
        },
        "id": "NXAjYUgfGGRE",
        "outputId": "9ef2d79e-404d-472c-d422-012cbb9a60c8"
      },
      "outputs": [
        {
          "output_type": "stream",
          "name": "stdout",
          "text": [
            "Informe um número ou digite sair: 1\n",
            "Informe um número ou digite sair: 1\n",
            "Informe um número ou digite sair: 1\n",
            "Informe um número ou digite sair: 1\n",
            "Informe um número ou digite sair: 1\n",
            "Informe um número ou digite sair: 1\n",
            "Informe um número ou digite sair: sair\n",
            "A soma dos valores é de 6 e a média é 1.\n"
          ]
        }
      ],
      "source": [
        "soma =  0\n",
        "cont = 0\n",
        "while True:\n",
        "  resp = input(\"Informe um número ou digite sair: \")\n",
        "  if resp == \"sair\":\n",
        "    break\n",
        "  soma += int(resp)\n",
        "  cont += 1\n",
        "print(f\"A soma dos valores é de {soma} e a média é {round(soma/cont)}.\")"
      ]
    },
    {
      "cell_type": "markdown",
      "metadata": {
        "id": "utlUPw3IGGRE"
      },
      "source": [
        "3. Usando laço, pergunte um usuário a nota de 3 provas. Remova a menor nota e calcule a média das notas que ele atingiu."
      ]
    },
    {
      "cell_type": "code",
      "execution_count": null,
      "metadata": {
        "id": "fZ3x6drxGGRF",
        "colab": {
          "base_uri": "https://localhost:8080/"
        },
        "outputId": "761a01c1-3c20-4523-90b5-b8dd97547fab"
      },
      "outputs": [
        {
          "output_type": "stream",
          "name": "stdout",
          "text": [
            "Informe a nota nº 1: (de 0 a 10) 7\n",
            "Informe a nota nº 2: (de 0 a 10) 7\n",
            "Informe a nota nº 3: (de 0 a 10) 7\n",
            "A média é 7\n"
          ]
        }
      ],
      "source": [
        "aux_notas = 1\n",
        "menor_nota = 11\n",
        "total = 0\n",
        "while aux_notas <= 3:\n",
        "  nota = float(input(f\"Informe a nota nº {aux_notas}: (de 0 a 10) \"))\n",
        "  if nota < menor_nota:\n",
        "    menor_nota = nota\n",
        "  total += nota\n",
        "  aux_notas += 1\n",
        "total -= menor_nota\n",
        "total /=2 # media\n",
        "\n",
        "print(f\"A média é {round(total)}\")\n"
      ]
    },
    {
      "cell_type": "markdown",
      "metadata": {
        "id": "PgUcIWxBGGRF"
      },
      "source": [
        "4. Pergunte o usuário 2 números inteiros, calcule quantos números pares existem entre os 2 número informados.\n",
        "Exemplo: se ele digitar 1 e 9, tem 4 números pares entre esses números 2,4,6,8 ."
      ]
    },
    {
      "cell_type": "code",
      "execution_count": null,
      "metadata": {
        "id": "8reyljwZGGRF",
        "colab": {
          "base_uri": "https://localhost:8080/"
        },
        "outputId": "049ec45a-9385-47a8-ff5a-69e9c233d53c"
      },
      "outputs": [
        {
          "output_type": "stream",
          "name": "stdout",
          "text": [
            "Informe o primeiro valor:  1\n",
            "Informe o último valor:  9\n",
            "Entre o valor 1 e 9 temos 4 números pares.\n"
          ]
        }
      ],
      "source": [
        "contadores_de_pares = 0\n",
        "primeiro_valor = int(input(\"Informe o primeiro valor:  \"))\n",
        "ultimo_valor = int(input(\"Informe o último valor:  \"))\n",
        "print(f\"Entre o valor {primeiro_valor} e {ultimo_valor} temos \", end='')\n",
        "while primeiro_valor <= ultimo_valor:\n",
        "  if primeiro_valor%2 == 0:\n",
        "    contadores_de_pares+=1\n",
        "  primeiro_valor += 1\n",
        "print(f\"{contadores_de_pares} números pares.\")\n"
      ]
    },
    {
      "cell_type": "markdown",
      "metadata": {
        "id": "gON_YYpkGGRF"
      },
      "source": [
        "5. Pergunte o usuário 2 números inteiros, calcule a soma de todos os números ímpares inteiros entre esses números.\n",
        "Exemplo: se ele digitar 1 e 9, tem 5 números ímpares entre esses números 1,3,5,7,9, e a soma é 25 ."
      ]
    },
    {
      "cell_type": "code",
      "execution_count": null,
      "metadata": {
        "id": "xql5_ezqGGRF",
        "colab": {
          "base_uri": "https://localhost:8080/"
        },
        "outputId": "b8b1434e-d769-4be7-9238-e7b409f65180"
      },
      "outputs": [
        {
          "output_type": "stream",
          "name": "stdout",
          "text": [
            "Informe o primeiro valor:  1\n",
            "Informe o último valor:  9\n",
            "Entre o valor 1 e 9 temos 5 números ímpares e a soma é 25.\n"
          ]
        }
      ],
      "source": [
        "contadores_de_impares = 0\n",
        "soma = 0\n",
        "primeiro_valor = int(input(\"Informe o primeiro valor:  \"))\n",
        "ultimo_valor = int(input(\"Informe o último valor:  \"))\n",
        "print(f\"Entre o valor {primeiro_valor} e {ultimo_valor} temos \", end='')\n",
        "while primeiro_valor <= ultimo_valor:\n",
        "  if primeiro_valor%2 != 0:\n",
        "    contadores_de_impares+=1\n",
        "    soma += primeiro_valor\n",
        "  primeiro_valor += 1\n",
        "print(f\"{contadores_de_impares} números ímpares e a soma é {soma}.\")\n"
      ]
    },
    {
      "cell_type": "code",
      "source": [],
      "metadata": {
        "id": "wHk_IpciIed5"
      },
      "execution_count": null,
      "outputs": []
    }
  ],
  "metadata": {
    "kernelspec": {
      "display_name": "Python 3 (ipykernel)",
      "language": "python",
      "name": "python3"
    },
    "language_info": {
      "codemirror_mode": {
        "name": "ipython",
        "version": 3
      },
      "file_extension": ".py",
      "mimetype": "text/x-python",
      "name": "python",
      "nbconvert_exporter": "python",
      "pygments_lexer": "ipython3",
      "version": "3.10.2"
    },
    "latex_envs": {
      "LaTeX_envs_menu_present": true,
      "autoclose": false,
      "autocomplete": true,
      "bibliofile": "biblio.bib",
      "cite_by": "apalike",
      "current_citInitial": 1,
      "eqLabelWithNumbers": true,
      "eqNumInitial": 1,
      "hotkeys": {
        "equation": "Ctrl-E",
        "itemize": "Ctrl-I"
      },
      "labels_anchors": false,
      "latex_user_defs": false,
      "report_style_numbering": false,
      "user_envs_cfg": false
    },
    "toc": {
      "base_numbering": 1,
      "nav_menu": {},
      "number_sections": true,
      "sideBar": true,
      "skip_h1_title": false,
      "title_cell": "Table of Contents",
      "title_sidebar": "Contents",
      "toc_cell": false,
      "toc_position": {},
      "toc_section_display": true,
      "toc_window_display": false
    },
    "varInspector": {
      "cols": {
        "lenName": 16,
        "lenType": 16,
        "lenVar": 40
      },
      "kernels_config": {
        "python": {
          "delete_cmd_postfix": "",
          "delete_cmd_prefix": "del ",
          "library": "var_list.py",
          "varRefreshCmd": "print(var_dic_list())"
        },
        "r": {
          "delete_cmd_postfix": ") ",
          "delete_cmd_prefix": "rm(",
          "library": "var_list.r",
          "varRefreshCmd": "cat(var_dic_list()) "
        }
      },
      "types_to_exclude": [
        "module",
        "function",
        "builtin_function_or_method",
        "instance",
        "_Feature"
      ],
      "window_display": false
    },
    "vscode": {
      "interpreter": {
        "hash": "7f52069df51f55474cef70a04f6de2c8e83f851022777c4983d9d0bb63ea6184"
      }
    },
    "colab": {
      "provenance": [],
      "include_colab_link": true
    }
  },
  "nbformat": 4,
  "nbformat_minor": 0
}